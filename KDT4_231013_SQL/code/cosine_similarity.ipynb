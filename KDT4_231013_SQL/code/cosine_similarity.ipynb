{
 "cells": [
  {
   "cell_type": "markdown",
   "metadata": {},
   "source": [
    "---\n",
    "### 1. 블로그 감성 분석 csv 파일 불러오기\n",
    "---"
   ]
  },
  {
   "cell_type": "code",
   "execution_count": 2,
   "metadata": {},
   "outputs": [
    {
     "data": {
      "text/html": [
       "<div>\n",
       "<style scoped>\n",
       "    .dataframe tbody tr th:only-of-type {\n",
       "        vertical-align: middle;\n",
       "    }\n",
       "\n",
       "    .dataframe tbody tr th {\n",
       "        vertical-align: top;\n",
       "    }\n",
       "\n",
       "    .dataframe thead th {\n",
       "        text-align: right;\n",
       "    }\n",
       "</style>\n",
       "<table border=\"1\" class=\"dataframe\">\n",
       "  <thead>\n",
       "    <tr style=\"text-align: right;\">\n",
       "      <th></th>\n",
       "      <th>링크</th>\n",
       "      <th>내용</th>\n",
       "      <th>해시태그</th>\n",
       "      <th>검색키워드</th>\n",
       "      <th>data</th>\n",
       "      <th>감성분석</th>\n",
       "      <th>감성분석결과</th>\n",
       "    </tr>\n",
       "  </thead>\n",
       "  <tbody>\n",
       "    <tr>\n",
       "      <th>0</th>\n",
       "      <td>https://blog.naver.com/hanke/223148038433</td>\n",
       "      <td>대구 곳 대구 이월드 물놀이 아쿠아 아쿠아 플레이 존 오늘 첫 포스팅 대구 곳 물놀...</td>\n",
       "      <td>대구가볼만한곳 대구이월드 이월드 대구물놀이 이월드아쿠아빌리지 이월드아쿠아플레이존</td>\n",
       "      <td>이월드</td>\n",
       "      <td>대구 곳 대구 이월드 물놀이 아쿠아 아쿠아 플레이 존 오늘 첫 포스팅 대구 곳 물놀...</td>\n",
       "      <td>-7</td>\n",
       "      <td>0</td>\n",
       "    </tr>\n",
       "    <tr>\n",
       "      <th>1</th>\n",
       "      <td>https://blog.naver.com/kkulee/222972014637</td>\n",
       "      <td>쯤 대구 이월드 야경 소식 접 번 야간 자유 이용권 입장권 할인 루미 네이션 축제 ...</td>\n",
       "      <td>내돈내산 대구이월드 자유이용권 입장권할인 일루미네이션 야간 야경 대구놀거리</td>\n",
       "      <td>이월드</td>\n",
       "      <td>쯤 대구 이월드 야경 소식 접 번 야간 자유 이용권 입장권 할인 루미 네이션 축제 ...</td>\n",
       "      <td>12</td>\n",
       "      <td>1</td>\n",
       "    </tr>\n",
       "    <tr>\n",
       "      <th>2</th>\n",
       "      <td>https://blog.naver.com/eworld_dg/223233061377</td>\n",
       "      <td>이월드 이월드 페 스티브 마켓 주말 마켓 운영 시안 카멜 앞 어드벤처 광장 야외 감...</td>\n",
       "      <td>이월드 이월드맛집 대구이월드 이월드할인 이월드간식 대구가볼만한곳 대구핫플 대구아이와...</td>\n",
       "      <td>이월드</td>\n",
       "      <td>이월드 이월드 페 스티브 마켓 주말 마켓 운영 시안 카멜 앞 어드벤처 광장 야외 감...</td>\n",
       "      <td>8</td>\n",
       "      <td>1</td>\n",
       "    </tr>\n",
       "    <tr>\n",
       "      <th>3</th>\n",
       "      <td>https://blog.naver.com/max_ad-min/223231148211</td>\n",
       "      <td>대구 이월드 연간 회원 뽕 뽑기 편입 니 주 번의 방문 뽕 애슐리 퀸즈 이용 연간 ...</td>\n",
       "      <td>애슐리 애슐리퀸즈 대구 이월드 대구이월드점 83타워 연간회원할인 10프로할인</td>\n",
       "      <td>이월드</td>\n",
       "      <td>대구 이월드 연간 회원 뽕 뽑기 편입 니 주 번의 방문 뽕 애슐리 퀸즈 이용 연간 ...</td>\n",
       "      <td>8</td>\n",
       "      <td>1</td>\n",
       "    </tr>\n",
       "    <tr>\n",
       "      <th>4</th>\n",
       "      <td>https://blog.naver.com/saddyblue0/223127190176</td>\n",
       "      <td>물놀이 여름 올해 첫 물놀이 대구 아이 곳 이월드 아쿠아 수영장 시작 물놀이 놀이기...</td>\n",
       "      <td>대구가볼만한곳 대구아이와가볼만한곳 대구수영장 대구물놀이 이월드수영장 이월드 이월드아...</td>\n",
       "      <td>이월드</td>\n",
       "      <td>물놀이 여름 올해 첫 물놀이 대구 아이 곳 이월드 아쿠아 수영장 시작 물놀이 놀이기...</td>\n",
       "      <td>2</td>\n",
       "      <td>1</td>\n",
       "    </tr>\n",
       "    <tr>\n",
       "      <th>...</th>\n",
       "      <td>...</td>\n",
       "      <td>...</td>\n",
       "      <td>...</td>\n",
       "      <td>...</td>\n",
       "      <td>...</td>\n",
       "      <td>...</td>\n",
       "      <td>...</td>\n",
       "    </tr>\n",
       "    <tr>\n",
       "      <th>7555</th>\n",
       "      <td>https://blog.naver.com/simple053/222927063253</td>\n",
       "      <td>대구 수성구 위치 대구 은행 본점 지하 층 금융 박물관 저 자 차이 지하철 타고 이...</td>\n",
       "      <td>첫글 대구은행 대구은행금융박물관 대구아이랑가기좋은곳 대구어린이체험 은행원체험</td>\n",
       "      <td>대구은행 금융박물관</td>\n",
       "      <td>대구 수성구 위치 대구 은행 본점 지하 층 금융 박물관 저 자 차이 지하철 타고 이...</td>\n",
       "      <td>-3</td>\n",
       "      <td>0</td>\n",
       "    </tr>\n",
       "    <tr>\n",
       "      <th>7556</th>\n",
       "      <td>https://blog.naver.com/jdchild1/222941425851</td>\n",
       "      <td>어린이집 견학 금융 박물관 누리 과정 오늘 어린이집 곳 위치 대구 은행 점지 금융 ...</td>\n",
       "      <td>중동 7세반 대구은행 표준보육과정 누리과정</td>\n",
       "      <td>대구은행 금융박물관</td>\n",
       "      <td>어린이집 견학 금융 박물관 누리 과정 오늘 어린이집 곳 위치 대구 은행 점지 금융 ...</td>\n",
       "      <td>2</td>\n",
       "      <td>1</td>\n",
       "    </tr>\n",
       "    <tr>\n",
       "      <th>7557</th>\n",
       "      <td>https://blog.naver.com/roopretel77/222958617517</td>\n",
       "      <td>대구 은행 금융 박물관 대구 은행 금융 박물관 대구 은행 본점 지하 금융 박물관 휴...</td>\n",
       "      <td>대구은행 대구은행금융박물관 대구아이와가볼만한곳 대구아이체험 수성구아이와가볼만한곳</td>\n",
       "      <td>대구은행 금융박물관</td>\n",
       "      <td>대구 은행 금융 박물관 대구 은행 금융 박물관 대구 은행 본점 지하 금융 박물관 휴...</td>\n",
       "      <td>-8</td>\n",
       "      <td>0</td>\n",
       "    </tr>\n",
       "    <tr>\n",
       "      <th>7558</th>\n",
       "      <td>https://blog.naver.com/ssgk6611/222904573937</td>\n",
       "      <td>대구 은행 금융 박물관 방문 세계 나라 화폐 그림 또 은행 일 지폐 속 그림 찾기 ...</td>\n",
       "      <td>대구유치원 신세계유치원 대구신세계유치원 수성구유치원 수성1가유치원 대구은행 금융박물...</td>\n",
       "      <td>대구은행 금융박물관</td>\n",
       "      <td>대구 은행 금융 박물관 방문 세계 나라 화폐 그림 또 은행 일 지폐 속 그림 찾기 ...</td>\n",
       "      <td>-4</td>\n",
       "      <td>0</td>\n",
       "    </tr>\n",
       "    <tr>\n",
       "      <th>7559</th>\n",
       "      <td>https://blog.naver.com/daegu_news/221741810111</td>\n",
       "      <td>체험 학습 동시 지역 민 어린이 청소년 금융 가치관 경제 지식 전달 위해 대구 은행...</td>\n",
       "      <td>2019대구시민기자단 대구시민기자단 시민기자단 DGB 대구은행 금융박물관 금융가치관...</td>\n",
       "      <td>대구은행 금융박물관</td>\n",
       "      <td>체험 학습 동시 지역 민 어린이 청소년 금융 가치관 경제 지식 전달 위해 대구 은행...</td>\n",
       "      <td>-72</td>\n",
       "      <td>1</td>\n",
       "    </tr>\n",
       "  </tbody>\n",
       "</table>\n",
       "<p>7560 rows × 7 columns</p>\n",
       "</div>"
      ],
      "text/plain": [
       "                                                   링크  \\\n",
       "0           https://blog.naver.com/hanke/223148038433   \n",
       "1          https://blog.naver.com/kkulee/222972014637   \n",
       "2       https://blog.naver.com/eworld_dg/223233061377   \n",
       "3      https://blog.naver.com/max_ad-min/223231148211   \n",
       "4      https://blog.naver.com/saddyblue0/223127190176   \n",
       "...                                               ...   \n",
       "7555    https://blog.naver.com/simple053/222927063253   \n",
       "7556     https://blog.naver.com/jdchild1/222941425851   \n",
       "7557  https://blog.naver.com/roopretel77/222958617517   \n",
       "7558     https://blog.naver.com/ssgk6611/222904573937   \n",
       "7559   https://blog.naver.com/daegu_news/221741810111   \n",
       "\n",
       "                                                     내용  \\\n",
       "0     대구 곳 대구 이월드 물놀이 아쿠아 아쿠아 플레이 존 오늘 첫 포스팅 대구 곳 물놀...   \n",
       "1     쯤 대구 이월드 야경 소식 접 번 야간 자유 이용권 입장권 할인 루미 네이션 축제 ...   \n",
       "2     이월드 이월드 페 스티브 마켓 주말 마켓 운영 시안 카멜 앞 어드벤처 광장 야외 감...   \n",
       "3     대구 이월드 연간 회원 뽕 뽑기 편입 니 주 번의 방문 뽕 애슐리 퀸즈 이용 연간 ...   \n",
       "4     물놀이 여름 올해 첫 물놀이 대구 아이 곳 이월드 아쿠아 수영장 시작 물놀이 놀이기...   \n",
       "...                                                 ...   \n",
       "7555  대구 수성구 위치 대구 은행 본점 지하 층 금융 박물관 저 자 차이 지하철 타고 이...   \n",
       "7556  어린이집 견학 금융 박물관 누리 과정 오늘 어린이집 곳 위치 대구 은행 점지 금융 ...   \n",
       "7557  대구 은행 금융 박물관 대구 은행 금융 박물관 대구 은행 본점 지하 금융 박물관 휴...   \n",
       "7558  대구 은행 금융 박물관 방문 세계 나라 화폐 그림 또 은행 일 지폐 속 그림 찾기 ...   \n",
       "7559  체험 학습 동시 지역 민 어린이 청소년 금융 가치관 경제 지식 전달 위해 대구 은행...   \n",
       "\n",
       "                                                   해시태그       검색키워드  \\\n",
       "0          대구가볼만한곳 대구이월드 이월드 대구물놀이 이월드아쿠아빌리지 이월드아쿠아플레이존         이월드   \n",
       "1             내돈내산 대구이월드 자유이용권 입장권할인 일루미네이션 야간 야경 대구놀거리         이월드   \n",
       "2     이월드 이월드맛집 대구이월드 이월드할인 이월드간식 대구가볼만한곳 대구핫플 대구아이와...         이월드   \n",
       "3            애슐리 애슐리퀸즈 대구 이월드 대구이월드점 83타워 연간회원할인 10프로할인         이월드   \n",
       "4     대구가볼만한곳 대구아이와가볼만한곳 대구수영장 대구물놀이 이월드수영장 이월드 이월드아...         이월드   \n",
       "...                                                 ...         ...   \n",
       "7555         첫글 대구은행 대구은행금융박물관 대구아이랑가기좋은곳 대구어린이체험 은행원체험  대구은행 금융박물관   \n",
       "7556                            중동 7세반 대구은행 표준보육과정 누리과정  대구은행 금융박물관   \n",
       "7557       대구은행 대구은행금융박물관 대구아이와가볼만한곳 대구아이체험 수성구아이와가볼만한곳  대구은행 금융박물관   \n",
       "7558  대구유치원 신세계유치원 대구신세계유치원 수성구유치원 수성1가유치원 대구은행 금융박물...  대구은행 금융박물관   \n",
       "7559  2019대구시민기자단 대구시민기자단 시민기자단 DGB 대구은행 금융박물관 금융가치관...  대구은행 금융박물관   \n",
       "\n",
       "                                                   data  감성분석  감성분석결과  \n",
       "0     대구 곳 대구 이월드 물놀이 아쿠아 아쿠아 플레이 존 오늘 첫 포스팅 대구 곳 물놀...    -7       0  \n",
       "1     쯤 대구 이월드 야경 소식 접 번 야간 자유 이용권 입장권 할인 루미 네이션 축제 ...    12       1  \n",
       "2     이월드 이월드 페 스티브 마켓 주말 마켓 운영 시안 카멜 앞 어드벤처 광장 야외 감...     8       1  \n",
       "3     대구 이월드 연간 회원 뽕 뽑기 편입 니 주 번의 방문 뽕 애슐리 퀸즈 이용 연간 ...     8       1  \n",
       "4     물놀이 여름 올해 첫 물놀이 대구 아이 곳 이월드 아쿠아 수영장 시작 물놀이 놀이기...     2       1  \n",
       "...                                                 ...   ...     ...  \n",
       "7555  대구 수성구 위치 대구 은행 본점 지하 층 금융 박물관 저 자 차이 지하철 타고 이...    -3       0  \n",
       "7556  어린이집 견학 금융 박물관 누리 과정 오늘 어린이집 곳 위치 대구 은행 점지 금융 ...     2       1  \n",
       "7557  대구 은행 금융 박물관 대구 은행 금융 박물관 대구 은행 본점 지하 금융 박물관 휴...    -8       0  \n",
       "7558  대구 은행 금융 박물관 방문 세계 나라 화폐 그림 또 은행 일 지폐 속 그림 찾기 ...    -4       0  \n",
       "7559  체험 학습 동시 지역 민 어린이 청소년 금융 가치관 경제 지식 전달 위해 대구 은행...   -72       1  \n",
       "\n",
       "[7560 rows x 7 columns]"
      ]
     },
     "execution_count": 2,
     "metadata": {},
     "output_type": "execute_result"
    }
   ],
   "source": [
    "import pandas as pd\n",
    "emo=pd.read_csv('./edu/12.sql/teamproject_1011/data/블로그감성분석.csv')\n",
    "emo"
   ]
  },
  {
   "cell_type": "markdown",
   "metadata": {},
   "source": [
    "---\n",
    "### 2. kkma를 이용하여 형태소 분석(skip)\n",
    "---"
   ]
  },
  {
   "cell_type": "code",
   "execution_count": 3,
   "metadata": {},
   "outputs": [],
   "source": [
    "# from konlpy.tag import Kkma\n",
    "# from tqdm import tqdm\n",
    "# kkma = Kkma()\n",
    "# box = []\n",
    "# for i in tqdm(emo['data']):\n",
    "#     a=kkma.nouns(i)\n",
    "#     box.append(\" \".join(a))\n",
    "# emo['data']=box\n"
   ]
  },
  {
   "cell_type": "markdown",
   "metadata": {},
   "source": [
    "---\n",
    "### 3. 벡터화\n",
    "---"
   ]
  },
  {
   "cell_type": "code",
   "execution_count": 4,
   "metadata": {},
   "outputs": [
    {
     "data": {
      "text/html": [
       "<div>\n",
       "<style scoped>\n",
       "    .dataframe tbody tr th:only-of-type {\n",
       "        vertical-align: middle;\n",
       "    }\n",
       "\n",
       "    .dataframe tbody tr th {\n",
       "        vertical-align: top;\n",
       "    }\n",
       "\n",
       "    .dataframe thead th {\n",
       "        text-align: right;\n",
       "    }\n",
       "</style>\n",
       "<table border=\"1\" class=\"dataframe\">\n",
       "  <thead>\n",
       "    <tr style=\"text-align: right;\">\n",
       "      <th></th>\n",
       "      <th>01052362882</th>\n",
       "      <th>07시48분출발</th>\n",
       "      <th>0811</th>\n",
       "      <th>100</th>\n",
       "      <th>100년도서관</th>\n",
       "      <th>100대명산</th>\n",
       "      <th>100대명산달성비슬산</th>\n",
       "      <th>100대명산완등</th>\n",
       "      <th>100대명산플러스</th>\n",
       "      <th>100대피아노</th>\n",
       "      <th>...</th>\n",
       "      <th>힙색</th>\n",
       "      <th>힙쟁</th>\n",
       "      <th>힙쟁이셔</th>\n",
       "      <th>힙하</th>\n",
       "      <th>힙합</th>\n",
       "      <th>힙합공연</th>\n",
       "      <th>힙해</th>\n",
       "      <th>힙했다</th>\n",
       "      <th>힝구</th>\n",
       "      <th>힝둥새</th>\n",
       "    </tr>\n",
       "  </thead>\n",
       "  <tbody>\n",
       "    <tr>\n",
       "      <th>0</th>\n",
       "      <td>0</td>\n",
       "      <td>0</td>\n",
       "      <td>0</td>\n",
       "      <td>0</td>\n",
       "      <td>0</td>\n",
       "      <td>0</td>\n",
       "      <td>0</td>\n",
       "      <td>0</td>\n",
       "      <td>0</td>\n",
       "      <td>0</td>\n",
       "      <td>...</td>\n",
       "      <td>0</td>\n",
       "      <td>0</td>\n",
       "      <td>0</td>\n",
       "      <td>0</td>\n",
       "      <td>0</td>\n",
       "      <td>0</td>\n",
       "      <td>0</td>\n",
       "      <td>0</td>\n",
       "      <td>0</td>\n",
       "      <td>0</td>\n",
       "    </tr>\n",
       "    <tr>\n",
       "      <th>1</th>\n",
       "      <td>0</td>\n",
       "      <td>0</td>\n",
       "      <td>0</td>\n",
       "      <td>0</td>\n",
       "      <td>0</td>\n",
       "      <td>0</td>\n",
       "      <td>0</td>\n",
       "      <td>0</td>\n",
       "      <td>0</td>\n",
       "      <td>0</td>\n",
       "      <td>...</td>\n",
       "      <td>0</td>\n",
       "      <td>0</td>\n",
       "      <td>0</td>\n",
       "      <td>0</td>\n",
       "      <td>0</td>\n",
       "      <td>0</td>\n",
       "      <td>0</td>\n",
       "      <td>0</td>\n",
       "      <td>0</td>\n",
       "      <td>0</td>\n",
       "    </tr>\n",
       "  </tbody>\n",
       "</table>\n",
       "<p>2 rows × 71245 columns</p>\n",
       "</div>"
      ],
      "text/plain": [
       "   01052362882  07시48분출발  0811  100  100년도서관  100대명산  100대명산달성비슬산  100대명산완등  \\\n",
       "0            0         0     0    0        0       0            0         0   \n",
       "1            0         0     0    0        0       0            0         0   \n",
       "\n",
       "   100대명산플러스  100대피아노  ...  힙색  힙쟁  힙쟁이셔  힙하  힙합  힙합공연  힙해  힙했다  힝구  힝둥새  \n",
       "0          0        0  ...   0   0     0   0   0     0   0    0   0    0  \n",
       "1          0        0  ...   0   0     0   0   0     0   0    0   0    0  \n",
       "\n",
       "[2 rows x 71245 columns]"
      ]
     },
     "execution_count": 4,
     "metadata": {},
     "output_type": "execute_result"
    }
   ],
   "source": [
    "from sklearn.feature_extraction.text import CountVectorizer\n",
    "import numpy as np\n",
    "cv=CountVectorizer()\n",
    "dtm = cv.fit_transform(emo['data'])\n",
    "dtm_df = pd.DataFrame(dtm.toarray(), columns=cv.get_feature_names_out())\n",
    "dtm_df.head(2)\n"
   ]
  },
  {
   "cell_type": "markdown",
   "metadata": {},
   "source": [
    "---\n",
    "### 4. 코사인 유사도 \n",
    "---"
   ]
  },
  {
   "cell_type": "code",
   "execution_count": 5,
   "metadata": {},
   "outputs": [],
   "source": [
    "# 코사인 유사도 : 두 벡터 사이의 각도의 코사인 값 ( -1 ~ 1 )\n",
    "def make_cosine(a,b):\n",
    "    return np.dot(a,b) / (np.linalg.norm(a) * np.linalg.norm(b)) # a, b의 내적"
   ]
  },
  {
   "cell_type": "code",
   "execution_count": 9,
   "metadata": {},
   "outputs": [
    {
     "name": "stdout",
     "output_type": "stream",
     "text": [
      "한강공원\n"
     ]
    }
   ],
   "source": [
    "# 임의 문장\n",
    "text='너무 힘들다 힐링이 필요해 휴양지 추천해줘'\n",
    "\n",
    "# kkma로 형태소 분석\n",
    "from konlpy.tag import Kkma\n",
    "kkma = Kkma()\n",
    "def recommand_place(text):\n",
    "    target=kkma.nouns(text)\n",
    "    target=' '.join(target)\n",
    "\n",
    "    # 기존 텍스트랑 형태소 분석된 텍스트를 합치기\n",
    "    target=[text +\" \" + target]\n",
    "    nor_target = cv.transform(target)\n",
    "    nor_target.toarray()[0]\n",
    "\n",
    "    # cosine 유사도 계산\n",
    "    box=[]\n",
    "    for i in range(len(dtm_df)):\n",
    "        sample = dtm_df.iloc[i].to_numpy()\n",
    "        cosine = make_cosine(nor_target.toarray()[0],sample)\n",
    "        box.append(cosine)\n",
    "    \n",
    "    # 가장 유사도가 높고 감성분석 결과가 1(긍정)인 키워드 출력\n",
    "    emo['유사도분석']=box\n",
    "    final_result=emo.sort_values(by=['유사도분석'],ascending=[False])\n",
    "    keyword = final_result[final_result.감성분석결과 == 1].검색키워드.iloc[0]\n",
    "    return keyword\n",
    "print(recommand_place(text))"
   ]
  },
  {
   "cell_type": "markdown",
   "metadata": {},
   "source": [
    "---\n",
    "### 5. 테스트\n",
    "---"
   ]
  },
  {
   "cell_type": "code",
   "execution_count": 10,
   "metadata": {},
   "outputs": [
    {
     "name": "stdout",
     "output_type": "stream",
     "text": [
      "대구아쿠아리움\n"
     ]
    }
   ],
   "source": [
    "text2='실내 데이트 장소 추천해줘'\n",
    "print(recommand_place(text2))"
   ]
  },
  {
   "cell_type": "code",
   "execution_count": 11,
   "metadata": {},
   "outputs": [
    {
     "name": "stdout",
     "output_type": "stream",
     "text": [
      "이월드 알파카 목장\n"
     ]
    }
   ],
   "source": [
    "text3='이월드에 가서 츄러스랑 솜사탕을 먹고싶어'\n",
    "print(recommand_place(text3))"
   ]
  },
  {
   "cell_type": "code",
   "execution_count": 12,
   "metadata": {},
   "outputs": [
    {
     "name": "stdout",
     "output_type": "stream",
     "text": [
      "동촌파크광장놀이공원\n"
     ]
    }
   ],
   "source": [
    "text4='놀이공원에 가서 츄러스랑 솜사탕을 먹고싶어'\n",
    "print(recommand_place(text4))"
   ]
  },
  {
   "cell_type": "code",
   "execution_count": 13,
   "metadata": {},
   "outputs": [
    {
     "name": "stdout",
     "output_type": "stream",
     "text": [
      "화랑공원\n"
     ]
    }
   ],
   "source": [
    "text5='한국의 역사를 알고싶어'\n",
    "print(recommand_place(text5))"
   ]
  },
  {
   "cell_type": "code",
   "execution_count": 14,
   "metadata": {},
   "outputs": [
    {
     "name": "stdout",
     "output_type": "stream",
     "text": [
      "대구아쿠아리움\n"
     ]
    }
   ],
   "source": [
    "text6='아이들이랑 물고기 보러 가고 싶어'\n",
    "print(recommand_place(text6))"
   ]
  }
 ],
 "metadata": {
  "kernelspec": {
   "display_name": "text1",
   "language": "python",
   "name": "python3"
  },
  "language_info": {
   "codemirror_mode": {
    "name": "ipython",
    "version": 3
   },
   "file_extension": ".py",
   "mimetype": "text/x-python",
   "name": "python",
   "nbconvert_exporter": "python",
   "pygments_lexer": "ipython3",
   "version": "3.9.7"
  }
 },
 "nbformat": 4,
 "nbformat_minor": 2
}
