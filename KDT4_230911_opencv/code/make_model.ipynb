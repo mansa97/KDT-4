{
 "cells": [
  {
   "cell_type": "markdown",
   "metadata": {},
   "source": [
    "### 수집된 데이터로 이미지 데이터셋 생성"
   ]
  },
  {
   "cell_type": "code",
   "execution_count": 1,
   "metadata": {},
   "outputs": [],
   "source": [
    "import os, glob\n",
    "import cv2\n",
    "import numpy as np\n",
    "import pandas as pd"
   ]
  },
  {
   "cell_type": "markdown",
   "metadata": {},
   "source": [
    "### [1] 수집 데이터 병합"
   ]
  },
  {
   "cell_type": "code",
   "execution_count": 5,
   "metadata": {},
   "outputs": [
    {
     "data": {
      "text/plain": [
       "5"
      ]
     },
     "execution_count": 5,
     "metadata": {},
     "output_type": "execute_result"
    }
   ],
   "source": [
    "# path='./edu/9.opencv/teamproject/make_model/data/'\n",
    "# filename=path+'bottle*'\n",
    "# fileList=glob.glob(filename)\n",
    "# len(fileList)"
   ]
  },
  {
   "cell_type": "code",
   "execution_count": 9,
   "metadata": {},
   "outputs": [],
   "source": [
    "# cnt=0\n",
    "# for file in fileList:\n",
    "#     cnt+=1\n",
    "#     if cnt==1:\n",
    "#         DF=pd.read_csv(file)\n",
    "#     else:\n",
    "#         new_DF=pd.read_csv(file)\n",
    "#         DF=pd.concat([DF,new_DF])"
   ]
  },
  {
   "cell_type": "code",
   "execution_count": 13,
   "metadata": {},
   "outputs": [
    {
     "data": {
      "text/html": [
       "<div>\n",
       "<style scoped>\n",
       "    .dataframe tbody tr th:only-of-type {\n",
       "        vertical-align: middle;\n",
       "    }\n",
       "\n",
       "    .dataframe tbody tr th {\n",
       "        vertical-align: top;\n",
       "    }\n",
       "\n",
       "    .dataframe thead th {\n",
       "        text-align: right;\n",
       "    }\n",
       "</style>\n",
       "<table border=\"1\" class=\"dataframe\">\n",
       "  <thead>\n",
       "    <tr style=\"text-align: right;\">\n",
       "      <th></th>\n",
       "      <th>0</th>\n",
       "      <th>1</th>\n",
       "      <th>2</th>\n",
       "      <th>3</th>\n",
       "      <th>4</th>\n",
       "      <th>5</th>\n",
       "      <th>6</th>\n",
       "      <th>7</th>\n",
       "      <th>8</th>\n",
       "      <th>9</th>\n",
       "      <th>...</th>\n",
       "      <th>22491</th>\n",
       "      <th>22492</th>\n",
       "      <th>22493</th>\n",
       "      <th>22494</th>\n",
       "      <th>22495</th>\n",
       "      <th>22496</th>\n",
       "      <th>22497</th>\n",
       "      <th>22498</th>\n",
       "      <th>22499</th>\n",
       "      <th>label</th>\n",
       "    </tr>\n",
       "  </thead>\n",
       "  <tbody>\n",
       "    <tr>\n",
       "      <th>0</th>\n",
       "      <td>0</td>\n",
       "      <td>0</td>\n",
       "      <td>0</td>\n",
       "      <td>0</td>\n",
       "      <td>0</td>\n",
       "      <td>0</td>\n",
       "      <td>0</td>\n",
       "      <td>0</td>\n",
       "      <td>0</td>\n",
       "      <td>0</td>\n",
       "      <td>...</td>\n",
       "      <td>0</td>\n",
       "      <td>0</td>\n",
       "      <td>0</td>\n",
       "      <td>0</td>\n",
       "      <td>0</td>\n",
       "      <td>0</td>\n",
       "      <td>0</td>\n",
       "      <td>0</td>\n",
       "      <td>0</td>\n",
       "      <td>plastic</td>\n",
       "    </tr>\n",
       "    <tr>\n",
       "      <th>1</th>\n",
       "      <td>0</td>\n",
       "      <td>0</td>\n",
       "      <td>0</td>\n",
       "      <td>0</td>\n",
       "      <td>0</td>\n",
       "      <td>0</td>\n",
       "      <td>0</td>\n",
       "      <td>0</td>\n",
       "      <td>0</td>\n",
       "      <td>0</td>\n",
       "      <td>...</td>\n",
       "      <td>0</td>\n",
       "      <td>0</td>\n",
       "      <td>0</td>\n",
       "      <td>0</td>\n",
       "      <td>0</td>\n",
       "      <td>0</td>\n",
       "      <td>0</td>\n",
       "      <td>0</td>\n",
       "      <td>0</td>\n",
       "      <td>plastic</td>\n",
       "    </tr>\n",
       "    <tr>\n",
       "      <th>2</th>\n",
       "      <td>176</td>\n",
       "      <td>177</td>\n",
       "      <td>177</td>\n",
       "      <td>177</td>\n",
       "      <td>176</td>\n",
       "      <td>176</td>\n",
       "      <td>176</td>\n",
       "      <td>177</td>\n",
       "      <td>174</td>\n",
       "      <td>174</td>\n",
       "      <td>...</td>\n",
       "      <td>186</td>\n",
       "      <td>184</td>\n",
       "      <td>182</td>\n",
       "      <td>180</td>\n",
       "      <td>184</td>\n",
       "      <td>185</td>\n",
       "      <td>189</td>\n",
       "      <td>187</td>\n",
       "      <td>193</td>\n",
       "      <td>plastic</td>\n",
       "    </tr>\n",
       "    <tr>\n",
       "      <th>3</th>\n",
       "      <td>177</td>\n",
       "      <td>177</td>\n",
       "      <td>177</td>\n",
       "      <td>176</td>\n",
       "      <td>176</td>\n",
       "      <td>176</td>\n",
       "      <td>176</td>\n",
       "      <td>176</td>\n",
       "      <td>175</td>\n",
       "      <td>175</td>\n",
       "      <td>...</td>\n",
       "      <td>184</td>\n",
       "      <td>185</td>\n",
       "      <td>185</td>\n",
       "      <td>185</td>\n",
       "      <td>186</td>\n",
       "      <td>187</td>\n",
       "      <td>188</td>\n",
       "      <td>189</td>\n",
       "      <td>189</td>\n",
       "      <td>plastic</td>\n",
       "    </tr>\n",
       "    <tr>\n",
       "      <th>4</th>\n",
       "      <td>0</td>\n",
       "      <td>0</td>\n",
       "      <td>0</td>\n",
       "      <td>0</td>\n",
       "      <td>0</td>\n",
       "      <td>0</td>\n",
       "      <td>0</td>\n",
       "      <td>0</td>\n",
       "      <td>0</td>\n",
       "      <td>0</td>\n",
       "      <td>...</td>\n",
       "      <td>0</td>\n",
       "      <td>0</td>\n",
       "      <td>0</td>\n",
       "      <td>0</td>\n",
       "      <td>0</td>\n",
       "      <td>0</td>\n",
       "      <td>0</td>\n",
       "      <td>0</td>\n",
       "      <td>0</td>\n",
       "      <td>plastic</td>\n",
       "    </tr>\n",
       "    <tr>\n",
       "      <th>...</th>\n",
       "      <td>...</td>\n",
       "      <td>...</td>\n",
       "      <td>...</td>\n",
       "      <td>...</td>\n",
       "      <td>...</td>\n",
       "      <td>...</td>\n",
       "      <td>...</td>\n",
       "      <td>...</td>\n",
       "      <td>...</td>\n",
       "      <td>...</td>\n",
       "      <td>...</td>\n",
       "      <td>...</td>\n",
       "      <td>...</td>\n",
       "      <td>...</td>\n",
       "      <td>...</td>\n",
       "      <td>...</td>\n",
       "      <td>...</td>\n",
       "      <td>...</td>\n",
       "      <td>...</td>\n",
       "      <td>...</td>\n",
       "      <td>...</td>\n",
       "    </tr>\n",
       "    <tr>\n",
       "      <th>995</th>\n",
       "      <td>1</td>\n",
       "      <td>167</td>\n",
       "      <td>168</td>\n",
       "      <td>167</td>\n",
       "      <td>171</td>\n",
       "      <td>171</td>\n",
       "      <td>170</td>\n",
       "      <td>173</td>\n",
       "      <td>171</td>\n",
       "      <td>172</td>\n",
       "      <td>...</td>\n",
       "      <td>91</td>\n",
       "      <td>93</td>\n",
       "      <td>93</td>\n",
       "      <td>96</td>\n",
       "      <td>96</td>\n",
       "      <td>95</td>\n",
       "      <td>93</td>\n",
       "      <td>94</td>\n",
       "      <td>96</td>\n",
       "      <td>plastic</td>\n",
       "    </tr>\n",
       "    <tr>\n",
       "      <th>996</th>\n",
       "      <td>139</td>\n",
       "      <td>141</td>\n",
       "      <td>146</td>\n",
       "      <td>153</td>\n",
       "      <td>159</td>\n",
       "      <td>164</td>\n",
       "      <td>167</td>\n",
       "      <td>169</td>\n",
       "      <td>171</td>\n",
       "      <td>171</td>\n",
       "      <td>...</td>\n",
       "      <td>93</td>\n",
       "      <td>93</td>\n",
       "      <td>93</td>\n",
       "      <td>93</td>\n",
       "      <td>94</td>\n",
       "      <td>94</td>\n",
       "      <td>93</td>\n",
       "      <td>93</td>\n",
       "      <td>93</td>\n",
       "      <td>plastic</td>\n",
       "    </tr>\n",
       "    <tr>\n",
       "      <th>997</th>\n",
       "      <td>79</td>\n",
       "      <td>79</td>\n",
       "      <td>79</td>\n",
       "      <td>79</td>\n",
       "      <td>79</td>\n",
       "      <td>79</td>\n",
       "      <td>79</td>\n",
       "      <td>78</td>\n",
       "      <td>78</td>\n",
       "      <td>78</td>\n",
       "      <td>...</td>\n",
       "      <td>170</td>\n",
       "      <td>170</td>\n",
       "      <td>169</td>\n",
       "      <td>168</td>\n",
       "      <td>167</td>\n",
       "      <td>166</td>\n",
       "      <td>165</td>\n",
       "      <td>164</td>\n",
       "      <td>164</td>\n",
       "      <td>plastic</td>\n",
       "    </tr>\n",
       "    <tr>\n",
       "      <th>998</th>\n",
       "      <td>1</td>\n",
       "      <td>167</td>\n",
       "      <td>168</td>\n",
       "      <td>167</td>\n",
       "      <td>171</td>\n",
       "      <td>171</td>\n",
       "      <td>170</td>\n",
       "      <td>173</td>\n",
       "      <td>171</td>\n",
       "      <td>172</td>\n",
       "      <td>...</td>\n",
       "      <td>91</td>\n",
       "      <td>93</td>\n",
       "      <td>93</td>\n",
       "      <td>96</td>\n",
       "      <td>96</td>\n",
       "      <td>95</td>\n",
       "      <td>93</td>\n",
       "      <td>94</td>\n",
       "      <td>96</td>\n",
       "      <td>plastic</td>\n",
       "    </tr>\n",
       "    <tr>\n",
       "      <th>999</th>\n",
       "      <td>176</td>\n",
       "      <td>177</td>\n",
       "      <td>177</td>\n",
       "      <td>177</td>\n",
       "      <td>176</td>\n",
       "      <td>176</td>\n",
       "      <td>176</td>\n",
       "      <td>177</td>\n",
       "      <td>174</td>\n",
       "      <td>174</td>\n",
       "      <td>...</td>\n",
       "      <td>186</td>\n",
       "      <td>184</td>\n",
       "      <td>182</td>\n",
       "      <td>180</td>\n",
       "      <td>184</td>\n",
       "      <td>185</td>\n",
       "      <td>189</td>\n",
       "      <td>187</td>\n",
       "      <td>193</td>\n",
       "      <td>plastic</td>\n",
       "    </tr>\n",
       "  </tbody>\n",
       "</table>\n",
       "<p>5000 rows × 22501 columns</p>\n",
       "</div>"
      ],
      "text/plain": [
       "       0    1    2    3    4    5    6    7    8    9  ...  22491  22492  \\\n",
       "0      0    0    0    0    0    0    0    0    0    0  ...      0      0   \n",
       "1      0    0    0    0    0    0    0    0    0    0  ...      0      0   \n",
       "2    176  177  177  177  176  176  176  177  174  174  ...    186    184   \n",
       "3    177  177  177  176  176  176  176  176  175  175  ...    184    185   \n",
       "4      0    0    0    0    0    0    0    0    0    0  ...      0      0   \n",
       "..   ...  ...  ...  ...  ...  ...  ...  ...  ...  ...  ...    ...    ...   \n",
       "995    1  167  168  167  171  171  170  173  171  172  ...     91     93   \n",
       "996  139  141  146  153  159  164  167  169  171  171  ...     93     93   \n",
       "997   79   79   79   79   79   79   79   78   78   78  ...    170    170   \n",
       "998    1  167  168  167  171  171  170  173  171  172  ...     91     93   \n",
       "999  176  177  177  177  176  176  176  177  174  174  ...    186    184   \n",
       "\n",
       "     22493  22494  22495  22496  22497  22498  22499    label  \n",
       "0        0      0      0      0      0      0      0  plastic  \n",
       "1        0      0      0      0      0      0      0  plastic  \n",
       "2      182    180    184    185    189    187    193  plastic  \n",
       "3      185    185    186    187    188    189    189  plastic  \n",
       "4        0      0      0      0      0      0      0  plastic  \n",
       "..     ...    ...    ...    ...    ...    ...    ...      ...  \n",
       "995     93     96     96     95     93     94     96  plastic  \n",
       "996     93     93     94     94     93     93     93  plastic  \n",
       "997    169    168    167    166    165    164    164  plastic  \n",
       "998     93     96     96     95     93     94     96  plastic  \n",
       "999    182    180    184    185    189    187    193  plastic  \n",
       "\n",
       "[5000 rows x 22501 columns]"
      ]
     },
     "execution_count": 13,
     "metadata": {},
     "output_type": "execute_result"
    }
   ],
   "source": [
    "# DF['label']='plastic'\n",
    "# DF"
   ]
  },
  {
   "cell_type": "code",
   "execution_count": 15,
   "metadata": {},
   "outputs": [],
   "source": [
    "# DF.to_csv('./edu/9.opencv/teamproject/make_model/data/plastic.csv')"
   ]
  },
  {
   "cell_type": "code",
   "execution_count": 16,
   "metadata": {},
   "outputs": [
    {
     "data": {
      "text/plain": [
       "['./edu/9.opencv/teamproject/make_model/data\\\\can.csv',\n",
       " './edu/9.opencv/teamproject/make_model/data\\\\glass.csv',\n",
       " './edu/9.opencv/teamproject/make_model/data\\\\paper.csv',\n",
       " './edu/9.opencv/teamproject/make_model/data\\\\plastic.csv',\n",
       " './edu/9.opencv/teamproject/make_model/data\\\\styrofoam.csv']"
      ]
     },
     "execution_count": 16,
     "metadata": {},
     "output_type": "execute_result"
    }
   ],
   "source": [
    "# path='./edu/9.opencv/teamproject/make_model/data/'\n",
    "# filename=path+'*.csv'\n",
    "# fileList=glob.glob(filename)\n",
    "# len(fileList)\n",
    "# fileList"
   ]
  },
  {
   "cell_type": "code",
   "execution_count": 17,
   "metadata": {},
   "outputs": [],
   "source": [
    "# cnt=0\n",
    "# for file in fileList:\n",
    "#     cnt+=1\n",
    "#     if cnt==1:\n",
    "#         DF=pd.read_csv(file)\n",
    "#     else:\n",
    "#         new_DF=pd.read_csv(file)\n",
    "#         DF=pd.concat([DF,new_DF])"
   ]
  },
  {
   "cell_type": "code",
   "execution_count": 18,
   "metadata": {},
   "outputs": [],
   "source": [
    "# DF.to_csv('./edu/9.opencv/teamproject/make_model/data/recycle.csv')"
   ]
  },
  {
   "cell_type": "markdown",
   "metadata": {},
   "source": [
    "### [2] 데이터 불러오기"
   ]
  },
  {
   "cell_type": "markdown",
   "metadata": {},
   "source": [
    "- DataFrame에 저장"
   ]
  },
  {
   "cell_type": "code",
   "execution_count": 2,
   "metadata": {},
   "outputs": [],
   "source": [
    "imgDF=pd.read_csv('./edu/9.opencv/teamproject/make_model/data/recycle.csv')"
   ]
  },
  {
   "cell_type": "code",
   "execution_count": 3,
   "metadata": {},
   "outputs": [
    {
     "data": {
      "text/html": [
       "<div>\n",
       "<style scoped>\n",
       "    .dataframe tbody tr th:only-of-type {\n",
       "        vertical-align: middle;\n",
       "    }\n",
       "\n",
       "    .dataframe tbody tr th {\n",
       "        vertical-align: top;\n",
       "    }\n",
       "\n",
       "    .dataframe thead th {\n",
       "        text-align: right;\n",
       "    }\n",
       "</style>\n",
       "<table border=\"1\" class=\"dataframe\">\n",
       "  <thead>\n",
       "    <tr style=\"text-align: right;\">\n",
       "      <th></th>\n",
       "      <th>0</th>\n",
       "      <th>1</th>\n",
       "      <th>2</th>\n",
       "      <th>3</th>\n",
       "      <th>4</th>\n",
       "      <th>5</th>\n",
       "      <th>6</th>\n",
       "      <th>7</th>\n",
       "      <th>8</th>\n",
       "      <th>9</th>\n",
       "      <th>...</th>\n",
       "      <th>22490</th>\n",
       "      <th>22491</th>\n",
       "      <th>22492</th>\n",
       "      <th>22493</th>\n",
       "      <th>22494</th>\n",
       "      <th>22495</th>\n",
       "      <th>22496</th>\n",
       "      <th>22497</th>\n",
       "      <th>22498</th>\n",
       "      <th>22499</th>\n",
       "    </tr>\n",
       "  </thead>\n",
       "  <tbody>\n",
       "    <tr>\n",
       "      <th>0</th>\n",
       "      <td>200</td>\n",
       "      <td>202</td>\n",
       "      <td>202</td>\n",
       "      <td>208</td>\n",
       "      <td>202</td>\n",
       "      <td>203</td>\n",
       "      <td>208</td>\n",
       "      <td>200</td>\n",
       "      <td>202</td>\n",
       "      <td>200</td>\n",
       "      <td>...</td>\n",
       "      <td>190</td>\n",
       "      <td>177</td>\n",
       "      <td>178</td>\n",
       "      <td>192</td>\n",
       "      <td>197</td>\n",
       "      <td>183</td>\n",
       "      <td>191</td>\n",
       "      <td>202</td>\n",
       "      <td>188</td>\n",
       "      <td>191</td>\n",
       "    </tr>\n",
       "    <tr>\n",
       "      <th>1</th>\n",
       "      <td>200</td>\n",
       "      <td>202</td>\n",
       "      <td>202</td>\n",
       "      <td>208</td>\n",
       "      <td>202</td>\n",
       "      <td>203</td>\n",
       "      <td>208</td>\n",
       "      <td>200</td>\n",
       "      <td>202</td>\n",
       "      <td>200</td>\n",
       "      <td>...</td>\n",
       "      <td>190</td>\n",
       "      <td>177</td>\n",
       "      <td>178</td>\n",
       "      <td>192</td>\n",
       "      <td>197</td>\n",
       "      <td>183</td>\n",
       "      <td>191</td>\n",
       "      <td>202</td>\n",
       "      <td>188</td>\n",
       "      <td>191</td>\n",
       "    </tr>\n",
       "    <tr>\n",
       "      <th>2</th>\n",
       "      <td>153</td>\n",
       "      <td>160</td>\n",
       "      <td>170</td>\n",
       "      <td>171</td>\n",
       "      <td>153</td>\n",
       "      <td>168</td>\n",
       "      <td>162</td>\n",
       "      <td>158</td>\n",
       "      <td>153</td>\n",
       "      <td>161</td>\n",
       "      <td>...</td>\n",
       "      <td>135</td>\n",
       "      <td>121</td>\n",
       "      <td>138</td>\n",
       "      <td>126</td>\n",
       "      <td>134</td>\n",
       "      <td>131</td>\n",
       "      <td>127</td>\n",
       "      <td>123</td>\n",
       "      <td>135</td>\n",
       "      <td>126</td>\n",
       "    </tr>\n",
       "    <tr>\n",
       "      <th>3</th>\n",
       "      <td>153</td>\n",
       "      <td>160</td>\n",
       "      <td>170</td>\n",
       "      <td>171</td>\n",
       "      <td>153</td>\n",
       "      <td>168</td>\n",
       "      <td>162</td>\n",
       "      <td>158</td>\n",
       "      <td>153</td>\n",
       "      <td>161</td>\n",
       "      <td>...</td>\n",
       "      <td>135</td>\n",
       "      <td>121</td>\n",
       "      <td>138</td>\n",
       "      <td>126</td>\n",
       "      <td>134</td>\n",
       "      <td>131</td>\n",
       "      <td>127</td>\n",
       "      <td>123</td>\n",
       "      <td>135</td>\n",
       "      <td>126</td>\n",
       "    </tr>\n",
       "    <tr>\n",
       "      <th>4</th>\n",
       "      <td>195</td>\n",
       "      <td>194</td>\n",
       "      <td>196</td>\n",
       "      <td>195</td>\n",
       "      <td>200</td>\n",
       "      <td>200</td>\n",
       "      <td>197</td>\n",
       "      <td>197</td>\n",
       "      <td>193</td>\n",
       "      <td>197</td>\n",
       "      <td>...</td>\n",
       "      <td>205</td>\n",
       "      <td>199</td>\n",
       "      <td>192</td>\n",
       "      <td>199</td>\n",
       "      <td>204</td>\n",
       "      <td>191</td>\n",
       "      <td>195</td>\n",
       "      <td>189</td>\n",
       "      <td>190</td>\n",
       "      <td>192</td>\n",
       "    </tr>\n",
       "  </tbody>\n",
       "</table>\n",
       "<p>5 rows × 22500 columns</p>\n",
       "</div>"
      ],
      "text/plain": [
       "     0    1    2    3    4    5    6    7    8    9  ...  22490  22491  22492  \\\n",
       "0  200  202  202  208  202  203  208  200  202  200  ...    190    177    178   \n",
       "1  200  202  202  208  202  203  208  200  202  200  ...    190    177    178   \n",
       "2  153  160  170  171  153  168  162  158  153  161  ...    135    121    138   \n",
       "3  153  160  170  171  153  168  162  158  153  161  ...    135    121    138   \n",
       "4  195  194  196  195  200  200  197  197  193  197  ...    205    199    192   \n",
       "\n",
       "   22493  22494  22495  22496  22497  22498  22499  \n",
       "0    192    197    183    191    202    188    191  \n",
       "1    192    197    183    191    202    188    191  \n",
       "2    126    134    131    127    123    135    126  \n",
       "3    126    134    131    127    123    135    126  \n",
       "4    199    204    191    195    189    190    192  \n",
       "\n",
       "[5 rows x 22500 columns]"
      ]
     },
     "execution_count": 3,
     "metadata": {},
     "output_type": "execute_result"
    }
   ],
   "source": [
    "feature=imgDF.iloc[:,1:-2]\n",
    "feature.head()"
   ]
  },
  {
   "cell_type": "code",
   "execution_count": 4,
   "metadata": {},
   "outputs": [
    {
     "data": {
      "text/html": [
       "<div>\n",
       "<style scoped>\n",
       "    .dataframe tbody tr th:only-of-type {\n",
       "        vertical-align: middle;\n",
       "    }\n",
       "\n",
       "    .dataframe tbody tr th {\n",
       "        vertical-align: top;\n",
       "    }\n",
       "\n",
       "    .dataframe thead th {\n",
       "        text-align: right;\n",
       "    }\n",
       "</style>\n",
       "<table border=\"1\" class=\"dataframe\">\n",
       "  <thead>\n",
       "    <tr style=\"text-align: right;\">\n",
       "      <th></th>\n",
       "      <th>0</th>\n",
       "      <th>1</th>\n",
       "      <th>2</th>\n",
       "      <th>3</th>\n",
       "      <th>4</th>\n",
       "      <th>5</th>\n",
       "      <th>6</th>\n",
       "      <th>7</th>\n",
       "      <th>8</th>\n",
       "      <th>9</th>\n",
       "      <th>...</th>\n",
       "      <th>22490</th>\n",
       "      <th>22491</th>\n",
       "      <th>22492</th>\n",
       "      <th>22493</th>\n",
       "      <th>22494</th>\n",
       "      <th>22495</th>\n",
       "      <th>22496</th>\n",
       "      <th>22497</th>\n",
       "      <th>22498</th>\n",
       "      <th>22499</th>\n",
       "    </tr>\n",
       "  </thead>\n",
       "  <tbody>\n",
       "    <tr>\n",
       "      <th>0</th>\n",
       "      <td>200</td>\n",
       "      <td>202</td>\n",
       "      <td>202</td>\n",
       "      <td>208</td>\n",
       "      <td>202</td>\n",
       "      <td>203</td>\n",
       "      <td>208</td>\n",
       "      <td>200</td>\n",
       "      <td>202</td>\n",
       "      <td>200</td>\n",
       "      <td>...</td>\n",
       "      <td>190</td>\n",
       "      <td>177</td>\n",
       "      <td>178</td>\n",
       "      <td>192</td>\n",
       "      <td>197</td>\n",
       "      <td>183</td>\n",
       "      <td>191</td>\n",
       "      <td>202</td>\n",
       "      <td>188</td>\n",
       "      <td>191</td>\n",
       "    </tr>\n",
       "    <tr>\n",
       "      <th>1</th>\n",
       "      <td>200</td>\n",
       "      <td>202</td>\n",
       "      <td>202</td>\n",
       "      <td>208</td>\n",
       "      <td>202</td>\n",
       "      <td>203</td>\n",
       "      <td>208</td>\n",
       "      <td>200</td>\n",
       "      <td>202</td>\n",
       "      <td>200</td>\n",
       "      <td>...</td>\n",
       "      <td>190</td>\n",
       "      <td>177</td>\n",
       "      <td>178</td>\n",
       "      <td>192</td>\n",
       "      <td>197</td>\n",
       "      <td>183</td>\n",
       "      <td>191</td>\n",
       "      <td>202</td>\n",
       "      <td>188</td>\n",
       "      <td>191</td>\n",
       "    </tr>\n",
       "    <tr>\n",
       "      <th>2</th>\n",
       "      <td>153</td>\n",
       "      <td>160</td>\n",
       "      <td>170</td>\n",
       "      <td>171</td>\n",
       "      <td>153</td>\n",
       "      <td>168</td>\n",
       "      <td>162</td>\n",
       "      <td>158</td>\n",
       "      <td>153</td>\n",
       "      <td>161</td>\n",
       "      <td>...</td>\n",
       "      <td>135</td>\n",
       "      <td>121</td>\n",
       "      <td>138</td>\n",
       "      <td>126</td>\n",
       "      <td>134</td>\n",
       "      <td>131</td>\n",
       "      <td>127</td>\n",
       "      <td>123</td>\n",
       "      <td>135</td>\n",
       "      <td>126</td>\n",
       "    </tr>\n",
       "    <tr>\n",
       "      <th>3</th>\n",
       "      <td>153</td>\n",
       "      <td>160</td>\n",
       "      <td>170</td>\n",
       "      <td>171</td>\n",
       "      <td>153</td>\n",
       "      <td>168</td>\n",
       "      <td>162</td>\n",
       "      <td>158</td>\n",
       "      <td>153</td>\n",
       "      <td>161</td>\n",
       "      <td>...</td>\n",
       "      <td>135</td>\n",
       "      <td>121</td>\n",
       "      <td>138</td>\n",
       "      <td>126</td>\n",
       "      <td>134</td>\n",
       "      <td>131</td>\n",
       "      <td>127</td>\n",
       "      <td>123</td>\n",
       "      <td>135</td>\n",
       "      <td>126</td>\n",
       "    </tr>\n",
       "    <tr>\n",
       "      <th>4</th>\n",
       "      <td>195</td>\n",
       "      <td>194</td>\n",
       "      <td>196</td>\n",
       "      <td>195</td>\n",
       "      <td>200</td>\n",
       "      <td>200</td>\n",
       "      <td>197</td>\n",
       "      <td>197</td>\n",
       "      <td>193</td>\n",
       "      <td>197</td>\n",
       "      <td>...</td>\n",
       "      <td>205</td>\n",
       "      <td>199</td>\n",
       "      <td>192</td>\n",
       "      <td>199</td>\n",
       "      <td>204</td>\n",
       "      <td>191</td>\n",
       "      <td>195</td>\n",
       "      <td>189</td>\n",
       "      <td>190</td>\n",
       "      <td>192</td>\n",
       "    </tr>\n",
       "    <tr>\n",
       "      <th>...</th>\n",
       "      <td>...</td>\n",
       "      <td>...</td>\n",
       "      <td>...</td>\n",
       "      <td>...</td>\n",
       "      <td>...</td>\n",
       "      <td>...</td>\n",
       "      <td>...</td>\n",
       "      <td>...</td>\n",
       "      <td>...</td>\n",
       "      <td>...</td>\n",
       "      <td>...</td>\n",
       "      <td>...</td>\n",
       "      <td>...</td>\n",
       "      <td>...</td>\n",
       "      <td>...</td>\n",
       "      <td>...</td>\n",
       "      <td>...</td>\n",
       "      <td>...</td>\n",
       "      <td>...</td>\n",
       "      <td>...</td>\n",
       "      <td>...</td>\n",
       "    </tr>\n",
       "    <tr>\n",
       "      <th>26934</th>\n",
       "      <td>206</td>\n",
       "      <td>49</td>\n",
       "      <td>255</td>\n",
       "      <td>219</td>\n",
       "      <td>27</td>\n",
       "      <td>255</td>\n",
       "      <td>92</td>\n",
       "      <td>0</td>\n",
       "      <td>0</td>\n",
       "      <td>221</td>\n",
       "      <td>...</td>\n",
       "      <td>201</td>\n",
       "      <td>225</td>\n",
       "      <td>24</td>\n",
       "      <td>97</td>\n",
       "      <td>255</td>\n",
       "      <td>120</td>\n",
       "      <td>171</td>\n",
       "      <td>0</td>\n",
       "      <td>231</td>\n",
       "      <td>255</td>\n",
       "    </tr>\n",
       "    <tr>\n",
       "      <th>26935</th>\n",
       "      <td>210</td>\n",
       "      <td>10</td>\n",
       "      <td>80</td>\n",
       "      <td>255</td>\n",
       "      <td>119</td>\n",
       "      <td>255</td>\n",
       "      <td>62</td>\n",
       "      <td>196</td>\n",
       "      <td>0</td>\n",
       "      <td>255</td>\n",
       "      <td>...</td>\n",
       "      <td>0</td>\n",
       "      <td>0</td>\n",
       "      <td>0</td>\n",
       "      <td>0</td>\n",
       "      <td>0</td>\n",
       "      <td>0</td>\n",
       "      <td>0</td>\n",
       "      <td>0</td>\n",
       "      <td>0</td>\n",
       "      <td>0</td>\n",
       "    </tr>\n",
       "    <tr>\n",
       "      <th>26936</th>\n",
       "      <td>0</td>\n",
       "      <td>255</td>\n",
       "      <td>10</td>\n",
       "      <td>135</td>\n",
       "      <td>218</td>\n",
       "      <td>20</td>\n",
       "      <td>90</td>\n",
       "      <td>38</td>\n",
       "      <td>161</td>\n",
       "      <td>154</td>\n",
       "      <td>...</td>\n",
       "      <td>0</td>\n",
       "      <td>0</td>\n",
       "      <td>0</td>\n",
       "      <td>0</td>\n",
       "      <td>0</td>\n",
       "      <td>0</td>\n",
       "      <td>0</td>\n",
       "      <td>0</td>\n",
       "      <td>0</td>\n",
       "      <td>0</td>\n",
       "    </tr>\n",
       "    <tr>\n",
       "      <th>26937</th>\n",
       "      <td>255</td>\n",
       "      <td>52</td>\n",
       "      <td>218</td>\n",
       "      <td>115</td>\n",
       "      <td>5</td>\n",
       "      <td>242</td>\n",
       "      <td>160</td>\n",
       "      <td>0</td>\n",
       "      <td>244</td>\n",
       "      <td>255</td>\n",
       "      <td>...</td>\n",
       "      <td>255</td>\n",
       "      <td>25</td>\n",
       "      <td>0</td>\n",
       "      <td>212</td>\n",
       "      <td>209</td>\n",
       "      <td>255</td>\n",
       "      <td>255</td>\n",
       "      <td>164</td>\n",
       "      <td>255</td>\n",
       "      <td>0</td>\n",
       "    </tr>\n",
       "    <tr>\n",
       "      <th>26938</th>\n",
       "      <td>206</td>\n",
       "      <td>49</td>\n",
       "      <td>255</td>\n",
       "      <td>219</td>\n",
       "      <td>27</td>\n",
       "      <td>255</td>\n",
       "      <td>92</td>\n",
       "      <td>0</td>\n",
       "      <td>0</td>\n",
       "      <td>221</td>\n",
       "      <td>...</td>\n",
       "      <td>201</td>\n",
       "      <td>225</td>\n",
       "      <td>24</td>\n",
       "      <td>97</td>\n",
       "      <td>255</td>\n",
       "      <td>120</td>\n",
       "      <td>171</td>\n",
       "      <td>0</td>\n",
       "      <td>231</td>\n",
       "      <td>255</td>\n",
       "    </tr>\n",
       "  </tbody>\n",
       "</table>\n",
       "<p>26939 rows × 22500 columns</p>\n",
       "</div>"
      ],
      "text/plain": [
       "         0    1    2    3    4    5    6    7    8    9  ...  22490  22491  \\\n",
       "0      200  202  202  208  202  203  208  200  202  200  ...    190    177   \n",
       "1      200  202  202  208  202  203  208  200  202  200  ...    190    177   \n",
       "2      153  160  170  171  153  168  162  158  153  161  ...    135    121   \n",
       "3      153  160  170  171  153  168  162  158  153  161  ...    135    121   \n",
       "4      195  194  196  195  200  200  197  197  193  197  ...    205    199   \n",
       "...    ...  ...  ...  ...  ...  ...  ...  ...  ...  ...  ...    ...    ...   \n",
       "26934  206   49  255  219   27  255   92    0    0  221  ...    201    225   \n",
       "26935  210   10   80  255  119  255   62  196    0  255  ...      0      0   \n",
       "26936    0  255   10  135  218   20   90   38  161  154  ...      0      0   \n",
       "26937  255   52  218  115    5  242  160    0  244  255  ...    255     25   \n",
       "26938  206   49  255  219   27  255   92    0    0  221  ...    201    225   \n",
       "\n",
       "       22492  22493  22494  22495  22496  22497  22498  22499  \n",
       "0        178    192    197    183    191    202    188    191  \n",
       "1        178    192    197    183    191    202    188    191  \n",
       "2        138    126    134    131    127    123    135    126  \n",
       "3        138    126    134    131    127    123    135    126  \n",
       "4        192    199    204    191    195    189    190    192  \n",
       "...      ...    ...    ...    ...    ...    ...    ...    ...  \n",
       "26934     24     97    255    120    171      0    231    255  \n",
       "26935      0      0      0      0      0      0      0      0  \n",
       "26936      0      0      0      0      0      0      0      0  \n",
       "26937      0    212    209    255    255    164    255      0  \n",
       "26938     24     97    255    120    171      0    231    255  \n",
       "\n",
       "[26939 rows x 22500 columns]"
      ]
     },
     "execution_count": 4,
     "metadata": {},
     "output_type": "execute_result"
    }
   ],
   "source": [
    "feature"
   ]
  },
  {
   "cell_type": "code",
   "execution_count": 5,
   "metadata": {},
   "outputs": [
    {
     "data": {
      "text/plain": [
       "0    can\n",
       "1    can\n",
       "2    can\n",
       "3    can\n",
       "4    can\n",
       "Name: label, dtype: object"
      ]
     },
     "execution_count": 5,
     "metadata": {},
     "output_type": "execute_result"
    }
   ],
   "source": [
    "target=imgDF.loc[:,'label']\n",
    "target.head()"
   ]
  },
  {
   "cell_type": "code",
   "execution_count": 6,
   "metadata": {},
   "outputs": [
    {
     "data": {
      "text/plain": [
       "0              can\n",
       "1              can\n",
       "2              can\n",
       "3              can\n",
       "4              can\n",
       "           ...    \n",
       "26934    styrofoam\n",
       "26935    styrofoam\n",
       "26936    styrofoam\n",
       "26937    styrofoam\n",
       "26938    styrofoam\n",
       "Name: label, Length: 26939, dtype: object"
      ]
     },
     "execution_count": 6,
     "metadata": {},
     "output_type": "execute_result"
    }
   ],
   "source": [
    "target"
   ]
  },
  {
   "cell_type": "code",
   "execution_count": 70,
   "metadata": {},
   "outputs": [],
   "source": [
    "# label=['cardboard']*403+['glass']*501+['metal']*410+['paper']*594+['plastic']*482+['trash']*137\n",
    "# label[0:5], label[5000:5005], label[10000:10005]"
   ]
  },
  {
   "cell_type": "code",
   "execution_count": 95,
   "metadata": {},
   "outputs": [
    {
     "data": {
      "text/plain": [
       "(['cardboard', 'cardboard', 'cardboard', 'cardboard', 'cardboard'],\n",
       " ['glass', 'glass', 'glass', 'glass', 'glass'],\n",
       " ['metal', 'metal', 'metal', 'metal', 'metal'],\n",
       " ['paper', 'paper', 'paper', 'paper', 'paper'],\n",
       " ['plastic', 'plastic', 'plastic', 'plastic', 'plastic'],\n",
       " ['trash', 'trash', 'trash', 'trash', 'trash'])"
      ]
     },
     "execution_count": 95,
     "metadata": {},
     "output_type": "execute_result"
    }
   ],
   "source": [
    "# label[0:5], label[403:408], label[904:909],label[1314:1319], label[1920:1925], label[2400:2405]"
   ]
  },
  {
   "cell_type": "markdown",
   "metadata": {},
   "source": [
    "### [3] 모델링"
   ]
  },
  {
   "cell_type": "markdown",
   "metadata": {},
   "source": [
    "---\n",
    "# no scaled\n",
    "---"
   ]
  },
  {
   "cell_type": "code",
   "execution_count": 7,
   "metadata": {},
   "outputs": [],
   "source": [
    "from sklearn.model_selection import train_test_split\n",
    "train_x,test_x,train_y,test_y = train_test_split(feature,target,test_size=0.2,random_state=12, stratify=target)"
   ]
  },
  {
   "cell_type": "code",
   "execution_count": 8,
   "metadata": {},
   "outputs": [
    {
     "data": {
      "text/plain": [
       "((21551, 22500), (5388, 22500))"
      ]
     },
     "execution_count": 8,
     "metadata": {},
     "output_type": "execute_result"
    }
   ],
   "source": [
    "train_x.shape,test_x.shape"
   ]
  },
  {
   "cell_type": "code",
   "execution_count": 9,
   "metadata": {},
   "outputs": [
    {
     "data": {
      "text/html": [
       "<div>\n",
       "<style scoped>\n",
       "    .dataframe tbody tr th:only-of-type {\n",
       "        vertical-align: middle;\n",
       "    }\n",
       "\n",
       "    .dataframe tbody tr th {\n",
       "        vertical-align: top;\n",
       "    }\n",
       "\n",
       "    .dataframe thead th {\n",
       "        text-align: right;\n",
       "    }\n",
       "</style>\n",
       "<table border=\"1\" class=\"dataframe\">\n",
       "  <thead>\n",
       "    <tr style=\"text-align: right;\">\n",
       "      <th></th>\n",
       "      <th>0</th>\n",
       "      <th>1</th>\n",
       "      <th>2</th>\n",
       "      <th>3</th>\n",
       "      <th>4</th>\n",
       "      <th>5</th>\n",
       "      <th>6</th>\n",
       "      <th>7</th>\n",
       "      <th>8</th>\n",
       "      <th>9</th>\n",
       "      <th>...</th>\n",
       "      <th>22490</th>\n",
       "      <th>22491</th>\n",
       "      <th>22492</th>\n",
       "      <th>22493</th>\n",
       "      <th>22494</th>\n",
       "      <th>22495</th>\n",
       "      <th>22496</th>\n",
       "      <th>22497</th>\n",
       "      <th>22498</th>\n",
       "      <th>22499</th>\n",
       "    </tr>\n",
       "  </thead>\n",
       "  <tbody>\n",
       "    <tr>\n",
       "      <th>7765</th>\n",
       "      <td>185</td>\n",
       "      <td>187</td>\n",
       "      <td>189</td>\n",
       "      <td>190</td>\n",
       "      <td>189</td>\n",
       "      <td>188</td>\n",
       "      <td>187</td>\n",
       "      <td>187</td>\n",
       "      <td>187</td>\n",
       "      <td>187</td>\n",
       "      <td>...</td>\n",
       "      <td>169</td>\n",
       "      <td>168</td>\n",
       "      <td>167</td>\n",
       "      <td>168</td>\n",
       "      <td>169</td>\n",
       "      <td>168</td>\n",
       "      <td>166</td>\n",
       "      <td>165</td>\n",
       "      <td>163</td>\n",
       "      <td>161</td>\n",
       "    </tr>\n",
       "    <tr>\n",
       "      <th>6958</th>\n",
       "      <td>104</td>\n",
       "      <td>131</td>\n",
       "      <td>164</td>\n",
       "      <td>174</td>\n",
       "      <td>174</td>\n",
       "      <td>175</td>\n",
       "      <td>175</td>\n",
       "      <td>171</td>\n",
       "      <td>173</td>\n",
       "      <td>176</td>\n",
       "      <td>...</td>\n",
       "      <td>183</td>\n",
       "      <td>183</td>\n",
       "      <td>180</td>\n",
       "      <td>176</td>\n",
       "      <td>174</td>\n",
       "      <td>176</td>\n",
       "      <td>179</td>\n",
       "      <td>181</td>\n",
       "      <td>183</td>\n",
       "      <td>184</td>\n",
       "    </tr>\n",
       "    <tr>\n",
       "      <th>14839</th>\n",
       "      <td>188</td>\n",
       "      <td>161</td>\n",
       "      <td>199</td>\n",
       "      <td>171</td>\n",
       "      <td>164</td>\n",
       "      <td>210</td>\n",
       "      <td>196</td>\n",
       "      <td>188</td>\n",
       "      <td>230</td>\n",
       "      <td>196</td>\n",
       "      <td>...</td>\n",
       "      <td>189</td>\n",
       "      <td>187</td>\n",
       "      <td>165</td>\n",
       "      <td>209</td>\n",
       "      <td>200</td>\n",
       "      <td>215</td>\n",
       "      <td>165</td>\n",
       "      <td>255</td>\n",
       "      <td>0</td>\n",
       "      <td>0</td>\n",
       "    </tr>\n",
       "    <tr>\n",
       "      <th>3116</th>\n",
       "      <td>0</td>\n",
       "      <td>0</td>\n",
       "      <td>0</td>\n",
       "      <td>0</td>\n",
       "      <td>0</td>\n",
       "      <td>0</td>\n",
       "      <td>0</td>\n",
       "      <td>0</td>\n",
       "      <td>0</td>\n",
       "      <td>0</td>\n",
       "      <td>...</td>\n",
       "      <td>144</td>\n",
       "      <td>143</td>\n",
       "      <td>138</td>\n",
       "      <td>138</td>\n",
       "      <td>146</td>\n",
       "      <td>144</td>\n",
       "      <td>156</td>\n",
       "      <td>151</td>\n",
       "      <td>145</td>\n",
       "      <td>140</td>\n",
       "    </tr>\n",
       "    <tr>\n",
       "      <th>15155</th>\n",
       "      <td>171</td>\n",
       "      <td>209</td>\n",
       "      <td>209</td>\n",
       "      <td>143</td>\n",
       "      <td>201</td>\n",
       "      <td>193</td>\n",
       "      <td>201</td>\n",
       "      <td>184</td>\n",
       "      <td>216</td>\n",
       "      <td>198</td>\n",
       "      <td>...</td>\n",
       "      <td>131</td>\n",
       "      <td>139</td>\n",
       "      <td>111</td>\n",
       "      <td>114</td>\n",
       "      <td>133</td>\n",
       "      <td>118</td>\n",
       "      <td>117</td>\n",
       "      <td>144</td>\n",
       "      <td>114</td>\n",
       "      <td>152</td>\n",
       "    </tr>\n",
       "    <tr>\n",
       "      <th>...</th>\n",
       "      <td>...</td>\n",
       "      <td>...</td>\n",
       "      <td>...</td>\n",
       "      <td>...</td>\n",
       "      <td>...</td>\n",
       "      <td>...</td>\n",
       "      <td>...</td>\n",
       "      <td>...</td>\n",
       "      <td>...</td>\n",
       "      <td>...</td>\n",
       "      <td>...</td>\n",
       "      <td>...</td>\n",
       "      <td>...</td>\n",
       "      <td>...</td>\n",
       "      <td>...</td>\n",
       "      <td>...</td>\n",
       "      <td>...</td>\n",
       "      <td>...</td>\n",
       "      <td>...</td>\n",
       "      <td>...</td>\n",
       "      <td>...</td>\n",
       "    </tr>\n",
       "    <tr>\n",
       "      <th>10191</th>\n",
       "      <td>0</td>\n",
       "      <td>0</td>\n",
       "      <td>0</td>\n",
       "      <td>0</td>\n",
       "      <td>0</td>\n",
       "      <td>0</td>\n",
       "      <td>0</td>\n",
       "      <td>0</td>\n",
       "      <td>0</td>\n",
       "      <td>0</td>\n",
       "      <td>...</td>\n",
       "      <td>172</td>\n",
       "      <td>179</td>\n",
       "      <td>177</td>\n",
       "      <td>153</td>\n",
       "      <td>198</td>\n",
       "      <td>171</td>\n",
       "      <td>163</td>\n",
       "      <td>178</td>\n",
       "      <td>176</td>\n",
       "      <td>176</td>\n",
       "    </tr>\n",
       "    <tr>\n",
       "      <th>24680</th>\n",
       "      <td>148</td>\n",
       "      <td>144</td>\n",
       "      <td>139</td>\n",
       "      <td>137</td>\n",
       "      <td>147</td>\n",
       "      <td>157</td>\n",
       "      <td>160</td>\n",
       "      <td>150</td>\n",
       "      <td>142</td>\n",
       "      <td>137</td>\n",
       "      <td>...</td>\n",
       "      <td>80</td>\n",
       "      <td>78</td>\n",
       "      <td>79</td>\n",
       "      <td>79</td>\n",
       "      <td>79</td>\n",
       "      <td>78</td>\n",
       "      <td>79</td>\n",
       "      <td>81</td>\n",
       "      <td>78</td>\n",
       "      <td>81</td>\n",
       "    </tr>\n",
       "    <tr>\n",
       "      <th>16427</th>\n",
       "      <td>0</td>\n",
       "      <td>0</td>\n",
       "      <td>0</td>\n",
       "      <td>0</td>\n",
       "      <td>0</td>\n",
       "      <td>0</td>\n",
       "      <td>0</td>\n",
       "      <td>0</td>\n",
       "      <td>0</td>\n",
       "      <td>0</td>\n",
       "      <td>...</td>\n",
       "      <td>0</td>\n",
       "      <td>0</td>\n",
       "      <td>0</td>\n",
       "      <td>0</td>\n",
       "      <td>0</td>\n",
       "      <td>0</td>\n",
       "      <td>0</td>\n",
       "      <td>0</td>\n",
       "      <td>0</td>\n",
       "      <td>0</td>\n",
       "    </tr>\n",
       "    <tr>\n",
       "      <th>7322</th>\n",
       "      <td>113</td>\n",
       "      <td>202</td>\n",
       "      <td>173</td>\n",
       "      <td>206</td>\n",
       "      <td>175</td>\n",
       "      <td>193</td>\n",
       "      <td>149</td>\n",
       "      <td>255</td>\n",
       "      <td>213</td>\n",
       "      <td>221</td>\n",
       "      <td>...</td>\n",
       "      <td>181</td>\n",
       "      <td>74</td>\n",
       "      <td>176</td>\n",
       "      <td>209</td>\n",
       "      <td>255</td>\n",
       "      <td>255</td>\n",
       "      <td>255</td>\n",
       "      <td>36</td>\n",
       "      <td>0</td>\n",
       "      <td>0</td>\n",
       "    </tr>\n",
       "    <tr>\n",
       "      <th>8162</th>\n",
       "      <td>113</td>\n",
       "      <td>202</td>\n",
       "      <td>173</td>\n",
       "      <td>206</td>\n",
       "      <td>175</td>\n",
       "      <td>193</td>\n",
       "      <td>149</td>\n",
       "      <td>255</td>\n",
       "      <td>213</td>\n",
       "      <td>221</td>\n",
       "      <td>...</td>\n",
       "      <td>181</td>\n",
       "      <td>74</td>\n",
       "      <td>176</td>\n",
       "      <td>209</td>\n",
       "      <td>255</td>\n",
       "      <td>255</td>\n",
       "      <td>255</td>\n",
       "      <td>36</td>\n",
       "      <td>0</td>\n",
       "      <td>0</td>\n",
       "    </tr>\n",
       "  </tbody>\n",
       "</table>\n",
       "<p>21551 rows × 22500 columns</p>\n",
       "</div>"
      ],
      "text/plain": [
       "         0    1    2    3    4    5    6    7    8    9  ...  22490  22491  \\\n",
       "7765   185  187  189  190  189  188  187  187  187  187  ...    169    168   \n",
       "6958   104  131  164  174  174  175  175  171  173  176  ...    183    183   \n",
       "14839  188  161  199  171  164  210  196  188  230  196  ...    189    187   \n",
       "3116     0    0    0    0    0    0    0    0    0    0  ...    144    143   \n",
       "15155  171  209  209  143  201  193  201  184  216  198  ...    131    139   \n",
       "...    ...  ...  ...  ...  ...  ...  ...  ...  ...  ...  ...    ...    ...   \n",
       "10191    0    0    0    0    0    0    0    0    0    0  ...    172    179   \n",
       "24680  148  144  139  137  147  157  160  150  142  137  ...     80     78   \n",
       "16427    0    0    0    0    0    0    0    0    0    0  ...      0      0   \n",
       "7322   113  202  173  206  175  193  149  255  213  221  ...    181     74   \n",
       "8162   113  202  173  206  175  193  149  255  213  221  ...    181     74   \n",
       "\n",
       "       22492  22493  22494  22495  22496  22497  22498  22499  \n",
       "7765     167    168    169    168    166    165    163    161  \n",
       "6958     180    176    174    176    179    181    183    184  \n",
       "14839    165    209    200    215    165    255      0      0  \n",
       "3116     138    138    146    144    156    151    145    140  \n",
       "15155    111    114    133    118    117    144    114    152  \n",
       "...      ...    ...    ...    ...    ...    ...    ...    ...  \n",
       "10191    177    153    198    171    163    178    176    176  \n",
       "24680     79     79     79     78     79     81     78     81  \n",
       "16427      0      0      0      0      0      0      0      0  \n",
       "7322     176    209    255    255    255     36      0      0  \n",
       "8162     176    209    255    255    255     36      0      0  \n",
       "\n",
       "[21551 rows x 22500 columns]"
      ]
     },
     "execution_count": 9,
     "metadata": {},
     "output_type": "execute_result"
    }
   ],
   "source": [
    "train_x"
   ]
  },
  {
   "cell_type": "code",
   "execution_count": 17,
   "metadata": {},
   "outputs": [],
   "source": [
    "from sklearn.metrics import accuracy_score, precision_score, recall_score, classification_report"
   ]
  },
  {
   "cell_type": "markdown",
   "metadata": {},
   "source": [
    "---\n",
    "# RandomForestClassifier\n",
    "---"
   ]
  },
  {
   "cell_type": "code",
   "execution_count": 10,
   "metadata": {},
   "outputs": [],
   "source": [
    "from sklearn.ensemble import RandomForestClassifier"
   ]
  },
  {
   "cell_type": "code",
   "execution_count": 11,
   "metadata": {},
   "outputs": [
    {
     "data": {
      "text/plain": [
       "(0.9777736531947473, 0.9688195991091314)"
      ]
     },
     "execution_count": 11,
     "metadata": {},
     "output_type": "execute_result"
    }
   ],
   "source": [
    "recycle_rfModel = RandomForestClassifier(max_depth=7)\n",
    "recycle_rfModel.fit(train_x,train_y)\n",
    "recycle_rfModel.score(train_x,train_y),recycle_rfModel.score(test_x,test_y)"
   ]
  },
  {
   "cell_type": "code",
   "execution_count": 12,
   "metadata": {},
   "outputs": [
    {
     "data": {
      "text/plain": [
       "['./edu/9.opencv/Day_02/model/mnist/recycle_rf.pkl']"
      ]
     },
     "execution_count": 12,
     "metadata": {},
     "output_type": "execute_result"
    }
   ],
   "source": [
    "import joblib\n",
    "model_dir='./edu/9.opencv/Day_02/model/mnist/'\n",
    "model_file = model_dir+'recycle_rf.pkl'\n",
    "joblib.dump(recycle_rfModel,model_file)"
   ]
  },
  {
   "cell_type": "code",
   "execution_count": 21,
   "metadata": {},
   "outputs": [
    {
     "name": "stdout",
     "output_type": "stream",
     "text": [
      "              precision    recall  f1-score   support\n",
      "\n",
      "         can       0.93      0.98      0.95       898\n",
      "       glass       1.00      1.00      1.00      1200\n",
      "       paper       0.91      0.99      0.95      1021\n",
      "     plastic       1.00      0.94      0.97      1000\n",
      "   styrofoam       1.00      0.93      0.97      1269\n",
      "\n",
      "    accuracy                           0.97      5388\n",
      "   macro avg       0.97      0.97      0.97      5388\n",
      "weighted avg       0.97      0.97      0.97      5388\n",
      "\n"
     ]
    }
   ],
   "source": [
    "pred=recycle_rfModel.predict(test_x)\n",
    "print(classification_report(test_y,pred))"
   ]
  },
  {
   "cell_type": "markdown",
   "metadata": {},
   "source": [
    "---\n",
    "# SVC\n",
    "---"
   ]
  },
  {
   "cell_type": "code",
   "execution_count": 13,
   "metadata": {},
   "outputs": [
    {
     "data": {
      "text/plain": [
       "(1.0, 0.9914625092798812)"
      ]
     },
     "execution_count": 13,
     "metadata": {},
     "output_type": "execute_result"
    }
   ],
   "source": [
    "from sklearn.svm import SVC\n",
    "recycle_svc=SVC(kernel='linear',random_state=100)\n",
    "recycle_svc.fit(train_x,train_y)\n",
    "recycle_svc.score(train_x,train_y),recycle_svc.score(test_x,test_y)\n"
   ]
  },
  {
   "cell_type": "code",
   "execution_count": 14,
   "metadata": {},
   "outputs": [
    {
     "data": {
      "text/plain": [
       "['./edu/9.opencv/Day_02/model/mnist/recycle_svc.pkl']"
      ]
     },
     "execution_count": 14,
     "metadata": {},
     "output_type": "execute_result"
    }
   ],
   "source": [
    "import joblib\n",
    "model_dir='./edu/9.opencv/Day_02/model/mnist/'\n",
    "model_file = model_dir+'recycle_svc.pkl'\n",
    "joblib.dump(recycle_svc,model_file)"
   ]
  },
  {
   "cell_type": "code",
   "execution_count": 22,
   "metadata": {},
   "outputs": [
    {
     "name": "stdout",
     "output_type": "stream",
     "text": [
      "              precision    recall  f1-score   support\n",
      "\n",
      "         can       0.96      0.99      0.98       898\n",
      "       glass       1.00      1.00      1.00      1200\n",
      "       paper       0.99      0.97      0.98      1021\n",
      "     plastic       1.00      0.99      1.00      1000\n",
      "   styrofoam       1.00      1.00      1.00      1269\n",
      "\n",
      "    accuracy                           0.99      5388\n",
      "   macro avg       0.99      0.99      0.99      5388\n",
      "weighted avg       0.99      0.99      0.99      5388\n",
      "\n"
     ]
    }
   ],
   "source": [
    "pred=recycle_svc.predict(test_x)\n",
    "print(classification_report(test_y,pred))"
   ]
  },
  {
   "cell_type": "markdown",
   "metadata": {},
   "source": [
    "---\n",
    "# LogisticRegression\n",
    "---"
   ]
  },
  {
   "cell_type": "code",
   "execution_count": 24,
   "metadata": {},
   "outputs": [
    {
     "name": "stderr",
     "output_type": "stream",
     "text": [
      "c:\\Users\\KDP-040\\anaconda3\\envs\\MY_PYTHON\\lib\\site-packages\\sklearn\\linear_model\\_logistic.py:460: ConvergenceWarning: lbfgs failed to converge (status=1):\n",
      "STOP: TOTAL NO. of ITERATIONS REACHED LIMIT.\n",
      "\n",
      "Increase the number of iterations (max_iter) or scale the data as shown in:\n",
      "    https://scikit-learn.org/stable/modules/preprocessing.html\n",
      "Please also refer to the documentation for alternative solver options:\n",
      "    https://scikit-learn.org/stable/modules/linear_model.html#logistic-regression\n",
      "  n_iter_i = _check_optimize_result(\n"
     ]
    },
    {
     "data": {
      "text/plain": [
       "(0.9566609438077119, 0.9534149962880475)"
      ]
     },
     "execution_count": 24,
     "metadata": {},
     "output_type": "execute_result"
    }
   ],
   "source": [
    "from sklearn.linear_model import LogisticRegression\n",
    "recycle_LR=LogisticRegression()\n",
    "recycle_LR.fit(train_x,train_y)\n",
    "recycle_LR.score(train_x,train_y),recycle_LR.score(test_x,test_y)"
   ]
  },
  {
   "cell_type": "code",
   "execution_count": 25,
   "metadata": {},
   "outputs": [
    {
     "data": {
      "text/plain": [
       "['./edu/9.opencv/Day_02/model/mnist/recycle_LR_scaled.pkl']"
      ]
     },
     "execution_count": 25,
     "metadata": {},
     "output_type": "execute_result"
    }
   ],
   "source": [
    "import joblib\n",
    "model_dir='./edu/9.opencv/Day_02/model/mnist/'\n",
    "model_file = model_dir+'recycle_LR.pkl'\n",
    "joblib.dump(recycle_LR,model_file)"
   ]
  },
  {
   "cell_type": "markdown",
   "metadata": {},
   "source": [
    "---\n",
    "# scaled\n",
    "---"
   ]
  },
  {
   "cell_type": "code",
   "execution_count": null,
   "metadata": {},
   "outputs": [],
   "source": [
    "feature=feature/255\n",
    "feature.head(3)"
   ]
  },
  {
   "cell_type": "code",
   "execution_count": null,
   "metadata": {},
   "outputs": [],
   "source": [
    "from sklearn.model_selection import train_test_split\n",
    "train_x,test_x,train_y,test_y = train_test_split(feature,target,test_size=0.2,random_state=12, stratify=target)"
   ]
  },
  {
   "cell_type": "code",
   "execution_count": null,
   "metadata": {},
   "outputs": [],
   "source": [
    "train_x.shape,test_x.shape"
   ]
  },
  {
   "cell_type": "code",
   "execution_count": null,
   "metadata": {},
   "outputs": [],
   "source": [
    "train_x"
   ]
  },
  {
   "cell_type": "markdown",
   "metadata": {},
   "source": [
    "---\n",
    "# RandomForestClassifier\n",
    "---"
   ]
  },
  {
   "cell_type": "code",
   "execution_count": null,
   "metadata": {},
   "outputs": [],
   "source": [
    "from sklearn.ensemble import RandomForestClassifier"
   ]
  },
  {
   "cell_type": "code",
   "execution_count": null,
   "metadata": {},
   "outputs": [],
   "source": [
    "recycle_rfModel = RandomForestClassifier(max_depth=7)\n",
    "recycle_rfModel.fit(train_x,train_y)\n",
    "recycle_rfModel.score(train_x,train_y),recycle_rfModel.score(test_x,test_y)"
   ]
  },
  {
   "cell_type": "code",
   "execution_count": null,
   "metadata": {},
   "outputs": [],
   "source": [
    "import joblib\n",
    "model_dir='./edu/9.opencv/Day_02/model/mnist/'\n",
    "model_file = model_dir+'recycle_rf_scaled.pkl'\n",
    "joblib.dump(recycle_rfModel,model_file)"
   ]
  },
  {
   "cell_type": "markdown",
   "metadata": {},
   "source": [
    "---\n",
    "# SVC\n",
    "---"
   ]
  },
  {
   "cell_type": "code",
   "execution_count": null,
   "metadata": {},
   "outputs": [
    {
     "data": {
      "text/plain": [
       "(1.0, 0.9914625092798812)"
      ]
     },
     "metadata": {},
     "output_type": "display_data"
    }
   ],
   "source": [
    "from sklearn.svm import SVC\n",
    "recycle_svc=SVC(kernel='linear',random_state=100)\n",
    "recycle_svc.fit(train_x,train_y)\n",
    "recycle_svc.score(train_x,train_y),recycle_svc.score(test_x,test_y)\n"
   ]
  },
  {
   "cell_type": "code",
   "execution_count": null,
   "metadata": {},
   "outputs": [
    {
     "data": {
      "text/plain": [
       "['./edu/9.opencv/Day_02/model/mnist/recycle_svc_scaled.pkl']"
      ]
     },
     "metadata": {},
     "output_type": "display_data"
    }
   ],
   "source": [
    "import joblib\n",
    "model_dir='./edu/9.opencv/Day_02/model/mnist/'\n",
    "model_file = model_dir+'recycle_svc_scaled.pkl'\n",
    "joblib.dump(recycle_svc,model_file)"
   ]
  },
  {
   "cell_type": "markdown",
   "metadata": {},
   "source": [
    "---\n",
    "# LogisticRegression\n",
    "---"
   ]
  },
  {
   "cell_type": "code",
   "execution_count": null,
   "metadata": {},
   "outputs": [
    {
     "name": "stderr",
     "output_type": "stream",
     "text": [
      "c:\\Users\\KDP-040\\anaconda3\\envs\\MY_PYTHON\\lib\\site-packages\\sklearn\\linear_model\\_logistic.py:460: ConvergenceWarning: lbfgs failed to converge (status=1):\n",
      "STOP: TOTAL NO. of ITERATIONS REACHED LIMIT.\n",
      "\n",
      "Increase the number of iterations (max_iter) or scale the data as shown in:\n",
      "    https://scikit-learn.org/stable/modules/preprocessing.html\n",
      "Please also refer to the documentation for alternative solver options:\n",
      "    https://scikit-learn.org/stable/modules/linear_model.html#logistic-regression\n",
      "  n_iter_i = _check_optimize_result(\n"
     ]
    },
    {
     "data": {
      "text/plain": [
       "(0.9566609438077119, 0.9534149962880475)"
      ]
     },
     "metadata": {},
     "output_type": "display_data"
    }
   ],
   "source": [
    "from sklearn.linear_model import LogisticRegression\n",
    "recycle_LR=LogisticRegression()\n",
    "recycle_LR.fit(train_x,train_y)\n",
    "recycle_LR.score(train_x,train_y),recycle_LR.score(test_x,test_y)"
   ]
  },
  {
   "cell_type": "code",
   "execution_count": null,
   "metadata": {},
   "outputs": [
    {
     "data": {
      "text/plain": [
       "['./edu/9.opencv/Day_02/model/mnist/recycle_LR_scaled.pkl']"
      ]
     },
     "metadata": {},
     "output_type": "display_data"
    }
   ],
   "source": [
    "import joblib\n",
    "model_dir='./edu/9.opencv/Day_02/model/mnist/'\n",
    "model_file = model_dir+'recycle_LR_scaled.pkl'\n",
    "joblib.dump(recycle_LR,model_file)"
   ]
  },
  {
   "cell_type": "code",
   "execution_count": null,
   "metadata": {},
   "outputs": [],
   "source": []
  },
  {
   "cell_type": "code",
   "execution_count": null,
   "metadata": {},
   "outputs": [],
   "source": []
  },
  {
   "cell_type": "code",
   "execution_count": null,
   "metadata": {},
   "outputs": [],
   "source": []
  },
  {
   "cell_type": "code",
   "execution_count": null,
   "metadata": {},
   "outputs": [],
   "source": []
  },
  {
   "cell_type": "code",
   "execution_count": null,
   "metadata": {},
   "outputs": [],
   "source": []
  },
  {
   "cell_type": "code",
   "execution_count": null,
   "metadata": {},
   "outputs": [],
   "source": [
    "# 가장 잘 분류하는 모델 저장"
   ]
  },
  {
   "cell_type": "code",
   "execution_count": 24,
   "metadata": {},
   "outputs": [],
   "source": [
    "import joblib\n",
    "model_dir='./edu/9.opencv/Day_02/model/mnist/'\n",
    "model_file = model_dir+'recycle_predict.pkl'"
   ]
  },
  {
   "cell_type": "code",
   "execution_count": 26,
   "metadata": {},
   "outputs": [],
   "source": [
    "import os\n",
    "from joblib import load\n",
    "import cv2\n",
    "if not os.path.exists(model_dir): os.makedirs(model_dir)\n"
   ]
  },
  {
   "cell_type": "code",
   "execution_count": 25,
   "metadata": {},
   "outputs": [
    {
     "data": {
      "text/plain": [
       "['./edu/9.opencv/Day_02/model/mnist/recycle_predict.pkl']"
      ]
     },
     "execution_count": 25,
     "metadata": {},
     "output_type": "execute_result"
    }
   ],
   "source": [
    "joblib.dump(rdModel,model_file)"
   ]
  },
  {
   "cell_type": "code",
   "execution_count": 82,
   "metadata": {},
   "outputs": [],
   "source": [
    "# 모델 파일 관련 변수\n",
    "model_dir='./edu/9.opencv/Day_02/model/mnist/'\n",
    "model_file = model_dir+'recycle_predict.pkl'"
   ]
  },
  {
   "cell_type": "code",
   "execution_count": 84,
   "metadata": {},
   "outputs": [
    {
     "name": "stdout",
     "output_type": "stream",
     "text": [
      "load_image ok\n",
      "resize_image ok\n",
      "(1, 49152)\n"
     ]
    },
    {
     "name": "stderr",
     "output_type": "stream",
     "text": [
      "c:\\Users\\KDP-040\\anaconda3\\envs\\MY_PYTHON\\lib\\site-packages\\sklearn\\base.py:464: UserWarning: X does not have valid feature names, but RandomForestClassifier was fitted with feature names\n",
      "  warnings.warn(\n"
     ]
    },
    {
     "data": {
      "text/plain": [
       "array(['metal'], dtype='<U9')"
      ]
     },
     "execution_count": 84,
     "metadata": {},
     "output_type": "execute_result"
    }
   ],
   "source": [
    "recycle_predict = load(model_file)\n",
    "file='./edu/9.opencv/data/Garbageclassification/glass/glass102.jpg'\n",
    "img=cv2.imread(file,cv2.IMREAD_GRAYSCALE)\n",
    "print('load_image ok')\n",
    "img=cv2.resize(img,(256,192))\n",
    "print('resize_image ok')\n",
    "img=img.reshape((-1,49152))\n",
    "print(img.shape)\n",
    "recycle_predict.predict(img)\n"
   ]
  },
  {
   "cell_type": "code",
   "execution_count": 86,
   "metadata": {},
   "outputs": [
    {
     "name": "stderr",
     "output_type": "stream",
     "text": [
      "c:\\Users\\KDP-040\\anaconda3\\envs\\MY_PYTHON\\lib\\site-packages\\sklearn\\base.py:464: UserWarning: X does not have valid feature names, but RandomForestClassifier was fitted with feature names\n",
      "  warnings.warn(\n"
     ]
    },
    {
     "data": {
      "text/plain": [
       "array(['metal', 'metal', 'metal', 'metal'], dtype='<U9')"
      ]
     },
     "execution_count": 86,
     "metadata": {},
     "output_type": "execute_result"
    }
   ],
   "source": [
    "file='./edu/9.opencv/data/Garbageclassification/glass/glass102.jpg'\n",
    "img=cv2.imread(file,cv2.IMREAD_GRAYSCALE)\n",
    "img=img.reshape((-1,49152))\n",
    "rdModel.predict(img)"
   ]
  },
  {
   "cell_type": "code",
   "execution_count": 44,
   "metadata": {},
   "outputs": [],
   "source": [
    "# from sklearn.neighbors import KNeighborsClassifier\n",
    "# recycle_KNN=KNeighborsClassifier()\n",
    "# recycle_KNN.fit(train_x,train_y)\n",
    "# recycle_KNN.score(train_x,train_y),recycle_KNN.score(test_x,test_y)"
   ]
  },
  {
   "cell_type": "code",
   "execution_count": 4,
   "metadata": {},
   "outputs": [],
   "source": [
    "import os\n",
    "\n",
    "folder_path = r\"C:\\Users\\KDP-040\\Desktop\\bottle\\glass_bottle\"  # 사진 파일들이 있는 폴더 경로\n",
    "# new_path = r\"C:\\Users\\KDP-040\\Desktop\\bottle\\glass_bottle\"\n",
    "cnt=1\n",
    "for filename in os.listdir(folder_path):\n",
    "    if filename.endswith(\".jpg\"):\n",
    "        date_part = filename.split(\"_\")[0]  # 날짜 부분 추출\n",
    "        new_filename = f\"glassbottle_{cnt}.jpg\"  # 새로운 파일명 생성\n",
    "        \n",
    "        old_path = os.path.join(folder_path, filename)\n",
    "        new_path = os.path.join(folder_path, new_filename)\n",
    "        \n",
    "        os.rename(old_path, new_path)  # 파일 이름 변경\n",
    "        cnt+=1"
   ]
  },
  {
   "cell_type": "code",
   "execution_count": null,
   "metadata": {},
   "outputs": [],
   "source": []
  }
 ],
 "metadata": {
  "kernelspec": {
   "display_name": "MY_PYTHON",
   "language": "python",
   "name": "python3"
  },
  "language_info": {
   "codemirror_mode": {
    "name": "ipython",
    "version": 3
   },
   "file_extension": ".py",
   "mimetype": "text/x-python",
   "name": "python",
   "nbconvert_exporter": "python",
   "pygments_lexer": "ipython3",
   "version": "3.9.7"
  },
  "orig_nbformat": 4
 },
 "nbformat": 4,
 "nbformat_minor": 2
}
