{
 "cells": [
  {
   "cell_type": "code",
   "execution_count": 4,
   "metadata": {},
   "outputs": [],
   "source": [
    "import pandas as pd\n",
    "import numpy as np\n",
    "import matplotlib.pyplot as plt\n",
    "import seaborn as sns\n",
    "from sklearn.model_selection import train_test_split\n",
    "from sklearn.model_selection import cross_val_score\n",
    "from sklearn.ensemble import RandomForestRegressor\n",
    "import warnings\n",
    "warnings.filterwarnings('ignore')"
   ]
  },
  {
   "cell_type": "code",
   "execution_count": 6,
   "metadata": {},
   "outputs": [
    {
     "data": {
      "text/html": [
       "<div>\n",
       "<style scoped>\n",
       "    .dataframe tbody tr th:only-of-type {\n",
       "        vertical-align: middle;\n",
       "    }\n",
       "\n",
       "    .dataframe tbody tr th {\n",
       "        vertical-align: top;\n",
       "    }\n",
       "\n",
       "    .dataframe thead th {\n",
       "        text-align: right;\n",
       "    }\n",
       "</style>\n",
       "<table border=\"1\" class=\"dataframe\">\n",
       "  <thead>\n",
       "    <tr style=\"text-align: right;\">\n",
       "      <th></th>\n",
       "      <th>Unnamed: 0</th>\n",
       "      <th>성별</th>\n",
       "      <th>중량</th>\n",
       "      <th>최저가</th>\n",
       "      <th>낙찰가</th>\n",
       "      <th>결격사유 여부</th>\n",
       "      <th>종류</th>\n",
       "      <th>성별_N</th>\n",
       "      <th>종류_N</th>\n",
       "    </tr>\n",
       "  </thead>\n",
       "  <tbody>\n",
       "    <tr>\n",
       "      <th>0</th>\n",
       "      <td>0</td>\n",
       "      <td>암</td>\n",
       "      <td>580</td>\n",
       "      <td>360</td>\n",
       "      <td>363</td>\n",
       "      <td>1</td>\n",
       "      <td>큰소</td>\n",
       "      <td>0</td>\n",
       "      <td>0</td>\n",
       "    </tr>\n",
       "    <tr>\n",
       "      <th>1</th>\n",
       "      <td>1</td>\n",
       "      <td>암</td>\n",
       "      <td>460</td>\n",
       "      <td>320</td>\n",
       "      <td>353</td>\n",
       "      <td>0</td>\n",
       "      <td>큰소</td>\n",
       "      <td>0</td>\n",
       "      <td>0</td>\n",
       "    </tr>\n",
       "  </tbody>\n",
       "</table>\n",
       "</div>"
      ],
      "text/plain": [
       "   Unnamed: 0 성별   중량  최저가  낙찰가  결격사유 여부  종류  성별_N  종류_N\n",
       "0           0  암  580  360  363        1  큰소     0     0\n",
       "1           1  암  460  320  353        0  큰소     0     0"
      ]
     },
     "execution_count": 6,
     "metadata": {},
     "output_type": "execute_result"
    }
   ],
   "source": [
    "filename='./data/cow_data_clean.csv'\n",
    "cow_DF=pd.read_csv(filename)\n",
    "cow_DF.head(2)"
   ]
  },
  {
   "cell_type": "code",
   "execution_count": 7,
   "metadata": {},
   "outputs": [],
   "source": [
    "target=cow_DF['낙찰가']\n",
    "feature=cow_DF[['중량','결격사유 여부','성별_N','종류_N']]\n"
   ]
  },
  {
   "cell_type": "code",
   "execution_count": 8,
   "metadata": {},
   "outputs": [
    {
     "name": "stdout",
     "output_type": "stream",
     "text": [
      "5 교차 검증의 개별 Negative MSE scores:  [-18397.68  -4205.6  -27083.62 -23403.6  -20343.01]\n",
      "5 교차 검증의 개별 RMSE scores:  [135.64  64.85 164.57 152.98 142.63]\n",
      "5 교차 검증의 평균 RMSE scores:  132.13\n"
     ]
    }
   ],
   "source": [
    "cow_rf=RandomForestRegressor(random_state=0, n_estimators=1000)\n",
    "n_mse_scores = cross_val_score(cow_rf, feature, target,scoring='neg_mean_squared_error',cv=5)\n",
    "rmse_scores = np.sqrt(-1*n_mse_scores)\n",
    "avg_rmse = np.mean(rmse_scores)\n",
    "print('5 교차 검증의 개별 Negative MSE scores: ', np.round(n_mse_scores,2))\n",
    "print('5 교차 검증의 개별 RMSE scores: ', np.round(rmse_scores,2))\n",
    "print('5 교차 검증의 평균 RMSE scores: ', np.round(avg_rmse,2))\n"
   ]
  },
  {
   "cell_type": "code",
   "execution_count": 9,
   "metadata": {},
   "outputs": [],
   "source": [
    "def get_model_cv_prediction(model, feature, target):\n",
    "    n_mse_scores = cross_val_score(model, feature, target,scoring='neg_mean_squared_error',cv=5)\n",
    "    rmse_scores = np.sqrt(-1*n_mse_scores)\n",
    "    avg_rmse = np.mean(rmse_scores)\n",
    "    print('##### ', model.__class__.__name__, ' #####')\n",
    "    print('5 교차 검증의 평균 RMSE scores: ', np.round(avg_rmse,2))"
   ]
  },
  {
   "cell_type": "code",
   "execution_count": 11,
   "metadata": {},
   "outputs": [],
   "source": [
    "from sklearn.tree import DecisionTreeRegressor\n",
    "from sklearn.ensemble import GradientBoostingRegressor\n",
    "from xgboost import XGBRegressor\n",
    "from lightgbm import LGBMRegressor"
   ]
  },
  {
   "cell_type": "code",
   "execution_count": 12,
   "metadata": {},
   "outputs": [
    {
     "name": "stdout",
     "output_type": "stream",
     "text": [
      "#####  DecisionTreeRegressor  #####\n",
      "5 교차 검증의 평균 RMSE scores:  134.74\n",
      "#####  RandomForestRegressor  #####\n",
      "5 교차 검증의 평균 RMSE scores:  132.13\n",
      "#####  GradientBoostingRegressor  #####\n",
      "5 교차 검증의 평균 RMSE scores:  130.29\n",
      "#####  XGBRegressor  #####\n",
      "5 교차 검증의 평균 RMSE scores:  133.56\n",
      "#####  LGBMRegressor  #####\n",
      "5 교차 검증의 평균 RMSE scores:  130.74\n"
     ]
    }
   ],
   "source": [
    "dt_reg = DecisionTreeRegressor(random_state=0, max_depth=4)\n",
    "rf_reg = RandomForestRegressor(random_state=0, n_estimators=1000)\n",
    "gb_reg = GradientBoostingRegressor(random_state=0, n_estimators=1000)\n",
    "xgb_reg = XGBRegressor(n_estimators=1000)\n",
    "lgb_reg = LGBMRegressor(n_estimators=1000)\n",
    "\n",
    "models = [dt_reg,rf_reg,gb_reg,xgb_reg,lgb_reg]\n",
    "for model in models:\n",
    "    get_model_cv_prediction(model, feature, target)"
   ]
  },
  {
   "cell_type": "code",
   "execution_count": 13,
   "metadata": {},
   "outputs": [
    {
     "data": {
      "text/plain": [
       "<Axes: >"
      ]
     },
     "execution_count": 13,
     "metadata": {},
     "output_type": "execute_result"
    },
    {
     "data": {
      "image/png": "[encoded data removed]",
      "text/plain": [
       "<Figure size 640x480 with 1 Axes>"
      ]
     },
     "metadata": {},
     "output_type": "display_data"
    }
   ],
   "source": [
    "import seaborn as sns\n",
    "%matplotlib inline\n",
    "rf_reg = RandomForestRegressor(n_estimators=1000)\n",
    "rf_reg.fit(feature,target)\n",
    "feature_series = pd.Series(data=rf_reg.feature_importances_,index=feature.columns)\n",
    "feature_series = feature_series.sort_values(ascending=False)\n",
    "sns.barplot(x=feature_series,y=feature_series.index)"
   ]
  },
  {
   "cell_type": "code",
   "execution_count": null,
   "metadata": {},
   "outputs": [],
   "source": []
  }
 ],
 "metadata": {
  "kernelspec": {
   "display_name": "MY_PYTHON",
   "language": "python",
   "name": "python3"
  },
  "language_info": {
   "codemirror_mode": {
    "name": "ipython",
    "version": 3
   },
   "file_extension": ".py",
   "mimetype": "text/x-python",
   "name": "python",
   "nbconvert_exporter": "python",
   "pygments_lexer": "ipython3",
   "version": "3.9.17"
  },
  "orig_nbformat": 4
 },
 "nbformat": 4,
 "nbformat_minor": 2
}
